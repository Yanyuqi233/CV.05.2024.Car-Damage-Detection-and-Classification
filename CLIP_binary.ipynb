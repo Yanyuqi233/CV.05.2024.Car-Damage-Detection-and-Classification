{
 "cells": [
  {
   "cell_type": "code",
   "execution_count": 1,
   "metadata": {},
   "outputs": [],
   "source": [
    "import torch\n",
    "import clip\n",
    "from PIL import Image\n",
    "import os"
   ]
  },
  {
   "cell_type": "code",
   "execution_count": 2,
   "metadata": {},
   "outputs": [
    {
     "name": "stdout",
     "output_type": "stream",
     "text": [
      "cuda\n"
     ]
    }
   ],
   "source": [
    "device = \"cuda\" if torch.cuda.is_available() else \"cpu\"\n",
    "print(device)"
   ]
  },
  {
   "cell_type": "code",
   "execution_count": 3,
   "metadata": {},
   "outputs": [],
   "source": [
    "model, preprocess = clip.load(\"ViT-B/32\", device=device)"
   ]
  },
  {
   "cell_type": "code",
   "execution_count": 4,
   "metadata": {},
   "outputs": [],
   "source": [
    "# Define dataset path\n",
    "training_damage_path = \"../dataset/training/00-damage\"\n",
    "training_whole_path = \"../dataset/training/01-whole\"\n",
    "\n",
    "validation_damage_path = \"../dataset/validation/00-damage\"\n",
    "validation_whole_path = \"../dataset/validation/01-whole\""
   ]
  },
  {
   "cell_type": "code",
   "execution_count": 5,
   "metadata": {},
   "outputs": [],
   "source": [
    "def get_images_from_folder(folder_path):\n",
    "    images = []\n",
    "    for img_file in os.listdir(folder_path):\n",
    "        if img_file.endswith(('.png', '.PNG', '.jpg', '.JPG', '.jpeg', '.JPEG')):\n",
    "            image = preprocess(Image.open(os.path.join(folder_path, img_file))).unsqueeze(0).to(device)\n",
    "            images.append(image)\n",
    "    return torch.cat(images, dim=0)\n",
    "\n",
    "def evaluate(images, label, text_descriptions):\n",
    "    with torch.no_grad():\n",
    "        image_features = model.encode_image(images)\n",
    "        text_features = model.encode_text(clip.tokenize(text_descriptions).to(device))\n",
    "        similarities = image_features @ text_features.T\n",
    "        predictions = similarities.argmax(dim=1)\n",
    "        correct_predictions = (predictions == label).sum().item()\n",
    "    return correct_predictions, len(images)"
   ]
  },
  {
   "cell_type": "code",
   "execution_count": 6,
   "metadata": {},
   "outputs": [
    {
     "name": "stdout",
     "output_type": "stream",
     "text": [
      "Accuracy for damage: 64.43%\n",
      "Accuracy for whole: 99.91%\n",
      "Overall accuracy: 82.17%\n"
     ]
    }
   ],
   "source": [
    "# Load pictures\n",
    "training_damage_images = get_images_from_folder(training_damage_path)\n",
    "training_whole_images = get_images_from_folder(training_whole_path)\n",
    "\n",
    "validation_damage_images = get_images_from_folder(validation_damage_path)\n",
    "validation_whole_images = get_images_from_folder(validation_whole_path)\n",
    "\n",
    "damage_images = torch.cat((training_damage_images, validation_damage_images), dim=0)\n",
    "whole_images = torch.cat((training_whole_images, validation_whole_images), dim=0)\n",
    "\n",
    "# Text description\n",
    "text_descriptions = [\"damaged car\", \"whole car\"]\n",
    "\n",
    "# Evaluate\n",
    "correct_damage, total_damage = evaluate(damage_images, 0, text_descriptions)\n",
    "correct_whole, total_whole = evaluate(whole_images, 1, text_descriptions)\n",
    "total_correct = correct_damage + correct_whole\n",
    "total_images = total_damage + total_whole\n",
    "\n",
    "# Calcuate\n",
    "accuracy_damage = correct_damage / total_damage\n",
    "accuracy_whole = correct_whole / total_whole\n",
    "overall_accuracy = total_correct / total_images\n",
    "\n",
    "print(f\"Accuracy for damage: {accuracy_damage*100:.2f}%\")\n",
    "print(f\"Accuracy for whole: {accuracy_whole*100:.2f}%\")\n",
    "print(f\"Overall accuracy: {overall_accuracy*100:.2f}%\")"
   ]
  },
  {
   "cell_type": "code",
   "execution_count": null,
   "metadata": {},
   "outputs": [],
   "source": []
  }
 ],
 "metadata": {
  "kernelspec": {
   "display_name": "base",
   "language": "python",
   "name": "python3"
  },
  "language_info": {
   "codemirror_mode": {
    "name": "ipython",
    "version": 3
   },
   "file_extension": ".py",
   "mimetype": "text/x-python",
   "name": "python",
   "nbconvert_exporter": "python",
   "pygments_lexer": "ipython3",
   "version": "3.11.4"
  }
 },
 "nbformat": 4,
 "nbformat_minor": 2
}
