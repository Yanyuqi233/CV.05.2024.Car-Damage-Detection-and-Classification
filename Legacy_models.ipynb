{
  "nbformat": 4,
  "nbformat_minor": 0,
  "metadata": {
    "colab": {
      "provenance": [],
      "machine_shape": "hm",
      "gpuType": "A100",
      "collapsed_sections": [
        "sewa9L4c45Yr"
      ]
    },
    "kernelspec": {
      "name": "python3",
      "display_name": "Python 3"
    },
    "language_info": {
      "name": "python"
    },
    "accelerator": "GPU"
  },
  "cells": [
    {
      "cell_type": "markdown",
      "source": [
        "# Project: Car Damage Detection"
      ],
      "metadata": {
        "id": "0Wi_hOankKmA"
      }
    },
    {
      "cell_type": "code",
      "execution_count": null,
      "metadata": {
        "id": "wx3XgOz8kC6T"
      },
      "outputs": [],
      "source": [
        "!echo '{\"username\":\"xxx\",\"key\":\"xxx\"}' > kaggle.json"
      ]
    },
    {
      "cell_type": "code",
      "source": [
        "!env KAGGLE_CONFIG_DIR=. kaggle datasets download -d anujms/car-damage-detection"
      ],
      "metadata": {
        "colab": {
          "base_uri": "https://localhost:8080/"
        },
        "id": "fLD7y37MkfjR",
        "outputId": "ddba7fcc-d751-4ae0-9c93-10fb409aec52"
      },
      "execution_count": null,
      "outputs": [
        {
          "output_type": "stream",
          "name": "stdout",
          "text": [
            "Warning: Your Kaggle API key is readable by other users on this system! To fix this, you can run 'chmod 600 ./kaggle.json'\n",
            "Dataset URL: https://www.kaggle.com/datasets/anujms/car-damage-detection\n",
            "License(s): unknown\n",
            "Downloading car-damage-detection.zip to /home/kafu/559/final-project\n",
            "... resuming from 128654048 bytes (0 bytes left) ...\n",
            "416 - Requested range not satisfiable\n"
          ]
        }
      ]
    },
    {
      "cell_type": "code",
      "source": [
        "!unzip car-damage-detection.zip > /dev/null"
      ],
      "metadata": {
        "colab": {
          "base_uri": "https://localhost:8080/"
        },
        "id": "5U4cDGAIkqHA",
        "outputId": "b991bb5e-38c5-41af-e399-194332ab2f5b"
      },
      "execution_count": null,
      "outputs": [
        {
          "output_type": "stream",
          "name": "stdout",
          "text": [
            "replace data1a/training/00-damage/0001.JPEG? [y]es, [n]o, [A]ll, [N]one, [r]ename: ^C\n"
          ]
        }
      ]
    },
    {
      "cell_type": "code",
      "source": [
        "!wget -O tag.xlsx https://spla.tools/tag-damaged-car.xlsx"
      ],
      "metadata": {
        "colab": {
          "base_uri": "https://localhost:8080/"
        },
        "id": "YnZNfEuqLzu3",
        "outputId": "da7ce75c-e5fe-47f8-addd-90ec14d67d9c"
      },
      "execution_count": null,
      "outputs": [
        {
          "output_type": "stream",
          "name": "stdout",
          "text": [
            "--2024-04-21 01:17:59--  https://spla.tools/tag-damaged-car.xlsx\n",
            "Resolving spla.tools (spla.tools)... 172.67.190.186, 104.21.20.2, 2606:4700:3037::ac43:beba, ...\n",
            "Connecting to spla.tools (spla.tools)|172.67.190.186|:443... connected.\n",
            "HTTP request sent, awaiting response... 200 OK\n",
            "Length: 41197 (40K) [application/vnd.openxmlformats-officedocument.spreadsheetml.sheet]\n",
            "Saving to: ‘tag.xlsx’\n",
            "\n",
            "tag.xlsx            100%[===================>]  40.23K  --.-KB/s    in 0s      \n",
            "\n",
            "2024-04-21 01:18:00 (123 MB/s) - ‘tag.xlsx’ saved [41197/41197]\n",
            "\n"
          ]
        }
      ]
    },
    {
      "cell_type": "markdown",
      "source": [
        "## Configs, adjust it here."
      ],
      "metadata": {
        "id": "RmZLSGE1xJbt"
      }
    },
    {
      "cell_type": "code",
      "source": [
        "IMG_HEIGHT, IMG_WIDTH = 224, 224\n",
        "SEED = 559\n",
        "TRAIN_VALID_SPLIT = 0.83\n",
        "with_augment = True\n",
        "train_loader = None\n",
        "validation_loader = None\n",
        "\n",
        "BASELINE_EPOCH = 10\n",
        "BINARY_EPOCH = 20\n",
        "MULTI_EPOCH = 25"
      ],
      "metadata": {
        "id": "L9c1keuQxMn3"
      },
      "execution_count": null,
      "outputs": []
    },
    {
      "cell_type": "markdown",
      "source": [
        "# Utility functions (normally hide)"
      ],
      "metadata": {
        "id": "NCxJbBX_1la_"
      }
    },
    {
      "cell_type": "code",
      "source": [
        "from PIL import Image\n",
        "import os\n",
        "import cv2\n",
        "import numpy as np\n",
        "# import google.colab.patches as colab_patches\n",
        "import torch\n",
        "from torch import nn\n",
        "import torch.nn.functional as F\n",
        "import torch.optim as optim\n",
        "import torchvision.models as models\n",
        "import torchvision.transforms as transforms\n",
        "from torch.utils.data import DataLoader, TensorDataset, Dataset, random_split\n",
        "from tqdm.std import trange\n",
        "from tqdm import tqdm\n",
        "\n",
        "import pandas as pd\n",
        "import matplotlib.pyplot as plt\n",
        "np.random.seed(SEED)\n",
        "torch.manual_seed(SEED)\n",
        "torch.cuda.manual_seed(SEED)"
      ],
      "metadata": {
        "id": "vFvry44rtqx-"
      },
      "execution_count": null,
      "outputs": []
    },
    {
      "cell_type": "code",
      "source": [
        "device = 'cuda' if torch.cuda.is_available() else 'cpu'\n",
        "device"
      ],
      "metadata": {
        "id": "7hEam0mZnvTd",
        "colab": {
          "base_uri": "https://localhost:8080/"
        },
        "outputId": "d8438e69-a2bd-45fd-dcaf-401905020d72"
      },
      "execution_count": null,
      "outputs": [
        {
          "output_type": "execute_result",
          "data": {
            "text/plain": [
              "'cuda'"
            ]
          },
          "metadata": {},
          "execution_count": 3
        }
      ]
    },
    {
      "cell_type": "code",
      "source": [
        "# Read the JPEG file\n",
        "\n",
        "def read_image(filename):\n",
        "    img = cv2.imread(filename)\n",
        "    return img\n",
        "\n",
        "def show_image(img: np.array):\n",
        "    if img.dtype != np.uint8:\n",
        "        img = img.astype(np.uint8)\n",
        "    # colab_patches.cv2_imshow(img)\n",
        "    cv2.imshow('image', img)"
      ],
      "metadata": {
        "id": "_PZK1OSg1qK5"
      },
      "execution_count": null,
      "outputs": []
    },
    {
      "cell_type": "code",
      "source": [
        "# Preprocess the image\n",
        "\n",
        "def preprocess_image(img):\n",
        "    if img.dtype != np.uint8:\n",
        "        img = img.astype(np.uint8)\n",
        "    # Resize the image into H*W:\n",
        "    img = cv2.resize(img, (IMG_HEIGHT, IMG_WIDTH))\n",
        "    # Convert the image to RGB:\n",
        "    img = cv2.cvtColor(img, cv2.COLOR_BGR2RGB)\n",
        "    return img"
      ],
      "metadata": {
        "id": "G5YL4r_M4mYe"
      },
      "execution_count": null,
      "outputs": []
    },
    {
      "cell_type": "code",
      "source": [
        "# Convert all data to a big X\n",
        "\n",
        "def convertXY(data):\n",
        "    X = []\n",
        "    y = []\n",
        "\n",
        "    for x, tag in data:\n",
        "        img = read_image(x)\n",
        "        img = preprocess_image(img)\n",
        "        X.append(img)\n",
        "        if tag == '00-damage':\n",
        "            y.append(1)\n",
        "        else:\n",
        "            y.append(0)\n",
        "\n",
        "    X = np.array(X)\n",
        "    y = np.array(y)\n",
        "\n",
        "    return X, y"
      ],
      "metadata": {
        "id": "5d1hiUN24sCi"
      },
      "execution_count": null,
      "outputs": []
    },
    {
      "cell_type": "code",
      "source": [
        "# Custom class to add Gaussian noise\n",
        "class GaussianNoise(object):\n",
        "    def __init__(self, mean=0.0, std=0.1):\n",
        "        self.mean = mean\n",
        "        self.std = std\n",
        "\n",
        "    def __call__(self, img):\n",
        "        img_np = np.array(img)  # Convert to NumPy array\n",
        "        noise = np.random.normal(self.mean, self.std, img_np.shape)\n",
        "        img_noisy = img_np + noise  # Add noise to image\n",
        "        img_noisy = np.clip(img_noisy, 0, 255).astype(np.uint8)\n",
        "        img_noisy_pil = Image.fromarray(img_noisy)  # Convert back to PIL Image\n",
        "        return img_noisy_pil"
      ],
      "metadata": {
        "id": "C0oxeLbQmexi"
      },
      "execution_count": null,
      "outputs": []
    },
    {
      "cell_type": "markdown",
      "source": [
        "# Step 1: Loading the data"
      ],
      "metadata": {
        "id": "t--xDQ23mfuA"
      }
    },
    {
      "cell_type": "markdown",
      "source": [
        "### Data Loading"
      ],
      "metadata": {
        "id": "9e6fJ9M1-n0o"
      }
    },
    {
      "cell_type": "code",
      "source": [
        "df_tag = pd.read_excel('tag.xlsx')\n",
        "df_tag.set_index('filename', inplace=True)\n",
        "df_tag = df_tag.loc[:, (\"Front\", \"Side\", \"Back\")].fillna(0)"
      ],
      "metadata": {
        "id": "t8i18YdnRs2Q"
      },
      "execution_count": null,
      "outputs": []
    },
    {
      "cell_type": "code",
      "source": [
        "# Create filename as index, then create a function to find the line:\n",
        "\n",
        "def get_tags(filename):\n",
        "    try:\n",
        "        return df_tag.loc[filename].to_numpy()\n",
        "    except KeyError:\n",
        "        # print(filename + \"not found\")\n",
        "        return np.zeros(3)"
      ],
      "metadata": {
        "id": "qWeUyzTnTcDu"
      },
      "execution_count": null,
      "outputs": []
    },
    {
      "cell_type": "code",
      "source": [
        "get_tags('./data1a/training/00-damage/0001.JPEG')"
      ],
      "metadata": {
        "colab": {
          "base_uri": "https://localhost:8080/"
        },
        "id": "azbW1jdRZEkA",
        "outputId": "489c6b5f-debf-44e6-e469-e68d74ac85e1"
      },
      "execution_count": null,
      "outputs": [
        {
          "output_type": "execute_result",
          "data": {
            "text/plain": [
              "array([0., 1., 1.])"
            ]
          },
          "metadata": {},
          "execution_count": 10
        }
      ]
    },
    {
      "cell_type": "code",
      "source": [
        "# Get the filename of training and validation set.\n",
        "\n",
        "training_folder = './data1a/training'\n",
        "validation_folder = './data1a/validation'\n",
        "tags = ['00-damage', '01-whole']\n",
        "\n",
        "datas = {}\n",
        "multi_tags = {}\n",
        "for i, m in enumerate((training_folder, validation_folder)):\n",
        "    datas[i] = []\n",
        "    multi_tags[i] = []\n",
        "    for tag in tags:\n",
        "        dir_name = os.path.join(m, tag)\n",
        "        for filename in os.listdir(dir_name):\n",
        "            datas[i].append([os.path.join(dir_name, filename), tag])\n",
        "            multi_tags[i].append(get_tags(os.path.join(dir_name, filename.upper())))"
      ],
      "metadata": {
        "id": "cDLo2YZRuT9w"
      },
      "execution_count": null,
      "outputs": []
    },
    {
      "cell_type": "code",
      "source": [
        "len(datas[0]), len(datas[1])"
      ],
      "metadata": {
        "colab": {
          "base_uri": "https://localhost:8080/"
        },
        "id": "Yj1cdnNtxBh_",
        "outputId": "ecbea881-8fe9-4a9d-94aa-d26213e0d1fa"
      },
      "execution_count": null,
      "outputs": [
        {
          "output_type": "execute_result",
          "data": {
            "text/plain": [
              "(1840, 460)"
            ]
          },
          "metadata": {},
          "execution_count": 12
        }
      ]
    },
    {
      "cell_type": "code",
      "source": [
        "X_train, y_train = convertXY(datas[0])\n",
        "X_test, y_test = convertXY(datas[1])\n",
        "ym_train = np.array(multi_tags[0])\n",
        "ym_test = np.array(multi_tags[1])"
      ],
      "metadata": {
        "id": "zt6liMVxxE5l"
      },
      "execution_count": null,
      "outputs": []
    },
    {
      "cell_type": "markdown",
      "source": [
        "### Create dataset"
      ],
      "metadata": {
        "id": "ujyN_N_-SDuU"
      }
    },
    {
      "cell_type": "code",
      "source": [
        "class ImageData(Dataset):\n",
        "    def __init__(self, X, y, transform=None):\n",
        "        self.X = X\n",
        "        self.y = y\n",
        "        self.transform = transform\n",
        "\n",
        "    def __len__(self):\n",
        "        return len(self.X)\n",
        "\n",
        "    def __getitem__(self, idx):\n",
        "        image = self.X[idx]\n",
        "        label = self.y[idx]\n",
        "        if self.transform:\n",
        "            image = self.transform(image)\n",
        "        return image, label"
      ],
      "metadata": {
        "id": "M38hGD2NSFpX"
      },
      "execution_count": null,
      "outputs": []
    },
    {
      "cell_type": "code",
      "source": [
        "# Define transformations, e.g., normalization\n",
        "transform = transforms.Compose([\n",
        "    transforms.ToTensor(),\n",
        "    transforms.Normalize([0.485, 0.456, 0.406], [0.229, 0.224, 0.225])\n",
        "])"
      ],
      "metadata": {
        "id": "hnnMq80TnGMG"
      },
      "execution_count": null,
      "outputs": []
    },
    {
      "cell_type": "code",
      "source": [
        "# Instantiate the dataset\n",
        "dataset = ImageData(X_train, y_train, transform=transform)"
      ],
      "metadata": {
        "id": "UXFWD53vm-Rn"
      },
      "execution_count": null,
      "outputs": []
    },
    {
      "cell_type": "code",
      "source": [
        "picked = np.random.choice(X_train.shape[0], int(X_train.shape[0] * 0.2), replace=False)\n",
        "X_train[picked].shape"
      ],
      "metadata": {
        "colab": {
          "base_uri": "https://localhost:8080/"
        },
        "id": "5sKfQFOTqHhj",
        "outputId": "bac6f794-5397-4181-dac6-4a3d7a5c73fb"
      },
      "execution_count": null,
      "outputs": [
        {
          "output_type": "execute_result",
          "data": {
            "text/plain": [
              "(368, 224, 224, 3)"
            ]
          },
          "metadata": {},
          "execution_count": 17
        }
      ]
    },
    {
      "cell_type": "code",
      "source": [
        "if with_augment:\n",
        "    transform_augmented = transforms.Compose([\n",
        "        GaussianNoise(std=0.05),  # Add Gaussian noise\n",
        "        transforms.ToTensor(),\n",
        "        transforms.RandomRotation(degrees=15),\n",
        "        transforms.RandomHorizontalFlip(),\n",
        "        transforms.RandomResizedCrop((IMG_HEIGHT, IMG_WIDTH)),\n",
        "        transforms.Normalize([0.485, 0.456, 0.406], [0.229, 0.224, 0.225])\n",
        "    ])\n",
        "    from torch.utils.data import ConcatDataset\n",
        "    # random pick X_train and y_train values\n",
        "    picked = np.random.choice(X_train.shape[0], int(X_train.shape[0] * 0.2), replace=False)\n",
        "    dataset_aug = ImageData(X_train[picked], y_train[picked], transform=transform_augmented)\n",
        "    dataset = ConcatDataset([dataset, dataset_aug])"
      ],
      "metadata": {
        "id": "aJ1EB_DDmx9h"
      },
      "execution_count": null,
      "outputs": []
    },
    {
      "cell_type": "code",
      "source": [
        "# Define the split sizes\n",
        "total_images = len(dataset)\n",
        "train_size = int(TRAIN_VALID_SPLIT * total_images)\n",
        "validation_size = total_images - train_size"
      ],
      "metadata": {
        "id": "QcaQCmfgpCMS"
      },
      "execution_count": null,
      "outputs": []
    },
    {
      "cell_type": "code",
      "source": [
        "train_dataset, validation_dataset = random_split(dataset, [train_size, validation_size])\n",
        "\n",
        "train_loader = DataLoader(train_dataset, batch_size=32, shuffle=True)\n",
        "validation_loader = DataLoader(validation_dataset, batch_size=32, shuffle=False)"
      ],
      "metadata": {
        "id": "MQEjwZgvSV7W"
      },
      "execution_count": null,
      "outputs": []
    },
    {
      "cell_type": "markdown",
      "source": [
        "### Here are some function related to model training, testing and plotting."
      ],
      "metadata": {
        "id": "sewa9L4c45Yr"
      }
    },
    {
      "cell_type": "code",
      "source": [
        "def accuracy(outputs, labels):\n",
        "    _, preds = torch.max(outputs, 1)\n",
        "    return torch.tensor(torch.sum(preds == labels).item() / len(preds))"
      ],
      "metadata": {
        "id": "7ygaBIeAnmhD"
      },
      "execution_count": null,
      "outputs": []
    },
    {
      "cell_type": "code",
      "source": [
        "def train(model, criterion, optimizer, epochs=5, train_loader=train_loader, validation_loader=validation_loader, model_type=\"binary\", threshold=0.50):\n",
        "    best_model_wts = model.state_dict()\n",
        "    best_acc = 0.0\n",
        "\n",
        "    train_loss_history = []\n",
        "    train_acc_history = []\n",
        "    val_loss_history = []\n",
        "    val_acc_history = []\n",
        "\n",
        "    for epoch in range(epochs):\n",
        "        print(f'Epoch {epoch + 1} / {epochs}')\n",
        "        model.train()\n",
        "        running_loss = 0.0\n",
        "        running_corrects = 0\n",
        "\n",
        "        for inputs, labels in tqdm(train_loader, desc=\"Training\"):\n",
        "            inputs = inputs.to(device)\n",
        "            labels = labels.to(device)\n",
        "            optimizer.zero_grad()\n",
        "\n",
        "            outputs = model(inputs)\n",
        "            if model_type == \"binary\":\n",
        "                _, preds = torch.max(outputs.data, 1)\n",
        "            elif model_type == \"multi\" or model_type == \"baseline\":\n",
        "                outputs = outputs.float()\n",
        "                labels = labels.float()\n",
        "                preds = (outputs.data >= threshold).float()\n",
        "            else:\n",
        "                raise ValueError(\"Invalid model type\")\n",
        "            loss = criterion(outputs, labels)\n",
        "\n",
        "            loss.backward()\n",
        "            optimizer.step()\n",
        "\n",
        "            running_loss += loss.item() * inputs.size(0)\n",
        "            running_corrects += torch.sum(preds == labels.data)\n",
        "\n",
        "        epoch_loss = running_loss / len(train_loader.dataset)\n",
        "        epoch_acc = running_corrects.double() / len(train_loader.dataset)\n",
        "        if model_type == \"multi\":\n",
        "            epoch_acc /= 3.0\n",
        "        train_loss_history.append(epoch_loss)\n",
        "        train_acc_history.append(epoch_acc.cpu())\n",
        "\n",
        "        print(f'Training Loss: {epoch_loss:.4f} Acc: {epoch_acc:.4f}')\n",
        "\n",
        "        model.eval()\n",
        "        val_loss = 0.0\n",
        "        val_corrects = 0\n",
        "\n",
        "        for inputs, labels in tqdm(validation_loader, desc=\"Validation\"):\n",
        "            inputs = inputs.to(device)\n",
        "            labels = labels.to(device)\n",
        "\n",
        "            with torch.no_grad():\n",
        "                outputs = model(inputs)\n",
        "                if model_type == \"binary\":\n",
        "                    _, preds = torch.max(outputs.data, 1)\n",
        "                elif model_type == \"multi\" or model_type == \"baseline\":\n",
        "                    outputs = outputs.float()\n",
        "                    labels = labels.float()\n",
        "                    preds = (outputs.data >= threshold).float()\n",
        "                else:\n",
        "                    raise ValueError(\"Invalid model type\")\n",
        "                loss = criterion(outputs, labels)\n",
        "\n",
        "            val_loss += loss.item() * inputs.size(0)\n",
        "            val_corrects += torch.sum(preds == labels.data)\n",
        "\n",
        "        val_loss = val_loss / len(validation_loader.dataset)\n",
        "        val_acc = val_corrects.double() / len(validation_loader.dataset)\n",
        "        if model_type == \"multi\":\n",
        "            val_acc /= 3.0\n",
        "        val_loss_history.append(val_loss)\n",
        "        val_acc_history.append(val_acc.cpu())\n",
        "\n",
        "        print(f'Validation Loss: {val_loss:.4f} Acc: {val_acc:.4f}')\n",
        "\n",
        "        if val_acc > best_acc:\n",
        "            best_acc = val_acc\n",
        "            best_model_wts = model.state_dict()\n",
        "\n",
        "    model.load_state_dict(best_model_wts)\n",
        "    return model, (train_loss_history, train_acc_history, val_loss_history, val_acc_history)"
      ],
      "metadata": {
        "id": "tpKheeK7n2T4"
      },
      "execution_count": null,
      "outputs": []
    },
    {
      "cell_type": "code",
      "source": [
        "# Confusion matrix on test_dataset\n",
        "\n",
        "def test(model, test_loader, model_type=\"binary\", threshold=0.5):\n",
        "    model.eval()\n",
        "    confusion_matrix = np.zeros((2, 2))\n",
        "    with torch.no_grad():\n",
        "        for images, labels in tqdm(test_loader, desc=\"Testing\"):\n",
        "            images = images.to(device)\n",
        "            labels = labels.to(device)\n",
        "            outputs = model(images)\n",
        "            if model_type == \"binary\":\n",
        "                _, predicted = torch.max(outputs.data, 1)\n",
        "            else: # For baseline model\n",
        "                outputs = outputs.float()\n",
        "                labels = labels.int()\n",
        "                predicted = (outputs.data >= threshold).int()\n",
        "            for i, label in enumerate(labels):\n",
        "                confusion_matrix[label.item(), predicted[i].item()] += 1\n",
        "\n",
        "    return confusion_matrix\n"
      ],
      "metadata": {
        "id": "7Ds0lk_aspik"
      },
      "execution_count": null,
      "outputs": []
    },
    {
      "cell_type": "code",
      "source": [
        "def test_multi(model, test_loader, threshold=0.5):\n",
        "    all_correct_cnt = 0\n",
        "    damaged_cnt = 0\n",
        "    wrong_cnt = 0\n",
        "    all_cnt = 0\n",
        "    correct_cnt = 0\n",
        "    model.eval()\n",
        "    with torch.no_grad():\n",
        "        for images, labels in tqdm(test_loader, desc=\"Testing\"):\n",
        "            images = images.to(device)\n",
        "            labels = labels.to(device)\n",
        "            outputs = model(images)\n",
        "            predicted = (outputs.data >= threshold).float()\n",
        "            for i, label in enumerate(labels):\n",
        "                max_arg = torch.argmax(outputs[i])\n",
        "                # if there is \"1\" in the label tensor\n",
        "                if torch.sum(label) > 0:\n",
        "                    damaged_cnt += 1\n",
        "                if label[max_arg] == 1:\n",
        "                    correct_cnt += 1\n",
        "                predicted_it = predicted.data[i]\n",
        "                label_it = label\n",
        "                wrong_cnt += torch.sum(predicted_it != label_it) / label.size(0)\n",
        "                all_cnt += 1\n",
        "                # print(predicted_it, label_it)\n",
        "                if torch.equal(predicted_it, label_it):\n",
        "                    all_correct_cnt += 1\n",
        "\n",
        "    return all_correct_cnt, wrong_cnt, all_cnt, correct_cnt, damaged_cnt"
      ],
      "metadata": {
        "id": "3PO-XSxjz4SB"
      },
      "execution_count": null,
      "outputs": []
    },
    {
      "cell_type": "code",
      "source": [
        "def plot_history(train_loss_history, train_acc_history, val_loss_history, val_acc_history):\n",
        "    # Plot the loss history and the accuracy history into 2 subplots.\n",
        "    fig, (ax1, ax2) = plt.subplots(1, 2, figsize=(12, 4))\n",
        "    x_epochs = np.arange(1, len(train_loss_history) + 1)\n",
        "    ax1.plot(x_epochs, train_loss_history, label='Training Loss')\n",
        "    ax1.plot(x_epochs, val_loss_history, label='Validation Loss')\n",
        "    ax1.set_xlabel('Epochs')\n",
        "    ax1.set_ylabel('Loss')\n",
        "    ax1.legend()\n",
        "    ax2.plot(x_epochs, train_acc_history, label='Training Accuracy')\n",
        "    ax2.plot(x_epochs, val_acc_history, label='Validation Accuracy')\n",
        "    ax2.set_xlabel('Epochs')\n",
        "    ax2.set_ylabel('Accuracy')\n",
        "    ax2.legend()\n",
        "    plt.show()"
      ],
      "metadata": {
        "id": "-vnDHpSd6sDU"
      },
      "execution_count": null,
      "outputs": []
    },
    {
      "cell_type": "code",
      "source": [
        "def plot_roc(model, test_loader, thresholds=np.linspace(0, 1, 100)):\n",
        "    model.eval()\n",
        "    tps = np.zeros_like(thresholds)\n",
        "    fps = np.zeros_like(thresholds)\n",
        "    tns = np.zeros_like(thresholds)\n",
        "    fns = np.zeros_like(thresholds)\n",
        "    with torch.no_grad():\n",
        "        for images, labels in tqdm(test_loader, desc=\"Testing\"):\n",
        "            images = images.to(device)\n",
        "            labels = labels.to(device)\n",
        "            outputs = model(images)\n",
        "            for i, threshold in enumerate(thresholds):\n",
        "                predicted = (outputs.data >= threshold).float()\n",
        "                tp = torch.sum(predicted * labels).cpu()\n",
        "                fp = torch.sum(predicted * (1 - labels)).cpu()\n",
        "                tn = torch.sum((1 - predicted) * (1 - labels)).cpu()\n",
        "                fn = torch.sum((1 - predicted) * labels).cpu()\n",
        "                tps[i] += tp.item()\n",
        "                fps[i] += fp.item()\n",
        "                tns[i] += tn.item()\n",
        "                fns[i] += fn.item()\n",
        "\n",
        "    fprs = fps / (fps + tns)\n",
        "    tprs = tps / (tps + fns)\n",
        "    plt.plot(fprs, tprs)\n",
        "    plt.xlabel('False Positive Rate')\n",
        "    plt.ylabel('True Positive Rate')\n",
        "    plt.show()"
      ],
      "metadata": {
        "id": "ER8U4XuU7Woi"
      },
      "execution_count": null,
      "outputs": []
    },
    {
      "cell_type": "markdown",
      "source": [
        "# Section 2: Binary classification (damaged or not)"
      ],
      "metadata": {
        "id": "wmsZcSC94zOM"
      }
    },
    {
      "cell_type": "code",
      "source": [
        "# Binary dataset for testing\n",
        "\n",
        "test_dataset = ImageData(X_test, y_test, transform=transform)\n",
        "test_loader = DataLoader(test_dataset, batch_size=32, shuffle=False)"
      ],
      "metadata": {
        "id": "cuZ6aWa3Vqb_"
      },
      "execution_count": null,
      "outputs": []
    },
    {
      "cell_type": "markdown",
      "source": [
        "## Comparisons between different models\n",
        "\n",
        "Comparing different models"
      ],
      "metadata": {
        "id": "mWnSgn5547XR"
      }
    },
    {
      "cell_type": "markdown",
      "source": [
        "### Model 0: Baseline"
      ],
      "metadata": {
        "id": "MvwX-k2QebV5"
      }
    },
    {
      "cell_type": "code",
      "source": [
        "class Baseline(nn.Module):\n",
        "    # finished using GPT-4\n",
        "    def __init__(self):\n",
        "        super(Baseline, self).__init__()\n",
        "        # First convolutional layer with leaky ReLU activation\n",
        "        self.conv1 = nn.Conv2d(in_channels=3, out_channels=8, kernel_size=3, padding=1)  # Assuming 3-channel input (e.g., RGB)\n",
        "        self.pool = nn.MaxPool2d(kernel_size=2, stride=2)  # 2x2 max pooling\n",
        "        # Second convolutional layer with leaky ReLU activation\n",
        "        self.conv2 = nn.Conv2d(in_channels=8, out_channels=16, kernel_size=3, padding=1)\n",
        "        # Third convolutional layer with leaky ReLU activation\n",
        "        self.conv3 = nn.Conv2d(in_channels=16, out_channels=32, kernel_size=3, padding=1)\n",
        "        # Fully connected (dense) layer\n",
        "        self.fc1 = nn.Linear(32 * 28 * 28, 128)  # Flattening requires knowing the output dimensions\n",
        "        self.fc2 = nn.Linear(128, 1)  # Output layer for binary classification with one output\n",
        "\n",
        "    def forward(self, x):\n",
        "        # Apply first convolution, then leaky ReLU activation\n",
        "        x = F.leaky_relu(self.conv1(x), negative_slope=0.005)\n",
        "        # Apply pooling\n",
        "        x = self.pool(x)\n",
        "        # Apply second convolution, then leaky ReLU\n",
        "        x = F.leaky_relu(self.conv2(x), negative_slope=0.005)\n",
        "        # Apply pooling\n",
        "        x = self.pool(x)\n",
        "        # Apply third convolution, then leaky ReLU\n",
        "        x = F.leaky_relu(self.conv3(x), negative_slope=0.005)\n",
        "        # Apply pooling\n",
        "        x = self.pool(x)\n",
        "        # Flatten before fully connected layers\n",
        "        x = x.view(x.size(0), -1)  # Flattening\n",
        "        # Fully connected layer with ReLU activation\n",
        "        x = F.relu(self.fc1(x))\n",
        "        # Output layer with sigmoid activation\n",
        "        x = torch.sigmoid(self.fc2(x))\n",
        "        x = x.squeeze()\n",
        "        return x"
      ],
      "metadata": {
        "id": "1dLUfO4FeZPE"
      },
      "execution_count": null,
      "outputs": []
    },
    {
      "cell_type": "code",
      "source": [
        "# Create the model\n",
        "model = Baseline()\n",
        "model = model.to(device)\n",
        "criterion = torch.nn.BCELoss()\n",
        "optimizer = torch.optim.Adam(model.parameters(), lr=0.001)"
      ],
      "metadata": {
        "id": "KSdFX6QQjcxM"
      },
      "execution_count": null,
      "outputs": []
    },
    {
      "cell_type": "code",
      "source": [
        "model, history = train(model, criterion, optimizer, epochs=BASELINE_EPOCH, train_loader=train_loader, validation_loader=validation_loader, model_type='baseline')"
      ],
      "metadata": {
        "colab": {
          "base_uri": "https://localhost:8080/"
        },
        "id": "XcrB4Dl3ji_0",
        "outputId": "9bd1661a-a281-4b84-f1b4-93ae69a2e32b"
      },
      "execution_count": null,
      "outputs": [
        {
          "output_type": "stream",
          "name": "stdout",
          "text": [
            "Epoch 1 / 10\n"
          ]
        },
        {
          "output_type": "stream",
          "name": "stderr",
          "text": [
            "Training: 100%|███████████████████████████████████████████████████████████████████| 58/58 [00:03<00:00, 14.86it/s]\n"
          ]
        },
        {
          "output_type": "stream",
          "name": "stdout",
          "text": [
            "Training Loss: 0.6875 Acc: 0.6130\n"
          ]
        },
        {
          "output_type": "stream",
          "name": "stderr",
          "text": [
            "Validation: 100%|█████████████████████████████████████████████████████████████████| 12/12 [00:00<00:00, 30.33it/s]\n"
          ]
        },
        {
          "output_type": "stream",
          "name": "stdout",
          "text": [
            "Validation Loss: 0.5768 Acc: 0.6995\n",
            "Epoch 2 / 10\n"
          ]
        },
        {
          "output_type": "stream",
          "name": "stderr",
          "text": [
            "Training: 100%|███████████████████████████████████████████████████████████████████| 58/58 [00:01<00:00, 30.01it/s]\n"
          ]
        },
        {
          "output_type": "stream",
          "name": "stdout",
          "text": [
            "Training Loss: 0.5338 Acc: 0.7282\n"
          ]
        },
        {
          "output_type": "stream",
          "name": "stderr",
          "text": [
            "Validation: 100%|█████████████████████████████████████████████████████████████████| 12/12 [00:00<00:00, 31.02it/s]\n"
          ]
        },
        {
          "output_type": "stream",
          "name": "stdout",
          "text": [
            "Validation Loss: 0.5526 Acc: 0.7234\n",
            "Epoch 3 / 10\n"
          ]
        },
        {
          "output_type": "stream",
          "name": "stderr",
          "text": [
            "Training: 100%|███████████████████████████████████████████████████████████████████| 58/58 [00:02<00:00, 28.50it/s]\n"
          ]
        },
        {
          "output_type": "stream",
          "name": "stdout",
          "text": [
            "Training Loss: 0.4894 Acc: 0.7653\n"
          ]
        },
        {
          "output_type": "stream",
          "name": "stderr",
          "text": [
            "Validation: 100%|█████████████████████████████████████████████████████████████████| 12/12 [00:00<00:00, 28.11it/s]\n"
          ]
        },
        {
          "output_type": "stream",
          "name": "stdout",
          "text": [
            "Validation Loss: 0.5137 Acc: 0.7394\n",
            "Epoch 4 / 10\n"
          ]
        },
        {
          "output_type": "stream",
          "name": "stderr",
          "text": [
            "Training: 100%|███████████████████████████████████████████████████████████████████| 58/58 [00:02<00:00, 27.82it/s]\n"
          ]
        },
        {
          "output_type": "stream",
          "name": "stdout",
          "text": [
            "Training Loss: 0.4317 Acc: 0.7997\n"
          ]
        },
        {
          "output_type": "stream",
          "name": "stderr",
          "text": [
            "Validation: 100%|█████████████████████████████████████████████████████████████████| 12/12 [00:00<00:00, 32.11it/s]\n"
          ]
        },
        {
          "output_type": "stream",
          "name": "stdout",
          "text": [
            "Validation Loss: 0.4844 Acc: 0.7793\n",
            "Epoch 5 / 10\n"
          ]
        },
        {
          "output_type": "stream",
          "name": "stderr",
          "text": [
            "Training: 100%|███████████████████████████████████████████████████████████████████| 58/58 [00:02<00:00, 26.82it/s]\n"
          ]
        },
        {
          "output_type": "stream",
          "name": "stdout",
          "text": [
            "Training Loss: 0.3779 Acc: 0.8259\n"
          ]
        },
        {
          "output_type": "stream",
          "name": "stderr",
          "text": [
            "Validation: 100%|█████████████████████████████████████████████████████████████████| 12/12 [00:00<00:00, 32.02it/s]\n"
          ]
        },
        {
          "output_type": "stream",
          "name": "stdout",
          "text": [
            "Validation Loss: 0.6138 Acc: 0.7340\n",
            "Epoch 6 / 10\n"
          ]
        },
        {
          "output_type": "stream",
          "name": "stderr",
          "text": [
            "Training: 100%|███████████████████████████████████████████████████████████████████| 58/58 [00:02<00:00, 27.33it/s]\n"
          ]
        },
        {
          "output_type": "stream",
          "name": "stdout",
          "text": [
            "Training Loss: 0.3342 Acc: 0.8548\n"
          ]
        },
        {
          "output_type": "stream",
          "name": "stderr",
          "text": [
            "Validation: 100%|█████████████████████████████████████████████████████████████████| 12/12 [00:00<00:00, 31.69it/s]\n"
          ]
        },
        {
          "output_type": "stream",
          "name": "stdout",
          "text": [
            "Validation Loss: 0.5058 Acc: 0.7500\n",
            "Epoch 7 / 10\n"
          ]
        },
        {
          "output_type": "stream",
          "name": "stderr",
          "text": [
            "Training: 100%|███████████████████████████████████████████████████████████████████| 58/58 [00:02<00:00, 26.73it/s]\n"
          ]
        },
        {
          "output_type": "stream",
          "name": "stdout",
          "text": [
            "Training Loss: 0.2716 Acc: 0.8794\n"
          ]
        },
        {
          "output_type": "stream",
          "name": "stderr",
          "text": [
            "Validation: 100%|█████████████████████████████████████████████████████████████████| 12/12 [00:00<00:00, 30.76it/s]\n"
          ]
        },
        {
          "output_type": "stream",
          "name": "stdout",
          "text": [
            "Validation Loss: 0.5560 Acc: 0.7846\n",
            "Epoch 8 / 10\n"
          ]
        },
        {
          "output_type": "stream",
          "name": "stderr",
          "text": [
            "Training: 100%|███████████████████████████████████████████████████████████████████| 58/58 [00:02<00:00, 27.35it/s]\n"
          ]
        },
        {
          "output_type": "stream",
          "name": "stdout",
          "text": [
            "Training Loss: 0.2548 Acc: 0.8930\n"
          ]
        },
        {
          "output_type": "stream",
          "name": "stderr",
          "text": [
            "Validation: 100%|█████████████████████████████████████████████████████████████████| 12/12 [00:00<00:00, 31.11it/s]\n"
          ]
        },
        {
          "output_type": "stream",
          "name": "stdout",
          "text": [
            "Validation Loss: 0.5178 Acc: 0.7793\n",
            "Epoch 9 / 10\n"
          ]
        },
        {
          "output_type": "stream",
          "name": "stderr",
          "text": [
            "Training: 100%|███████████████████████████████████████████████████████████████████| 58/58 [00:02<00:00, 28.23it/s]\n"
          ]
        },
        {
          "output_type": "stream",
          "name": "stdout",
          "text": [
            "Training Loss: 0.2188 Acc: 0.9154\n"
          ]
        },
        {
          "output_type": "stream",
          "name": "stderr",
          "text": [
            "Validation: 100%|█████████████████████████████████████████████████████████████████| 12/12 [00:00<00:00, 28.03it/s]\n"
          ]
        },
        {
          "output_type": "stream",
          "name": "stdout",
          "text": [
            "Validation Loss: 0.5423 Acc: 0.7686\n",
            "Epoch 10 / 10\n"
          ]
        },
        {
          "output_type": "stream",
          "name": "stderr",
          "text": [
            "Training: 100%|███████████████████████████████████████████████████████████████████| 58/58 [00:02<00:00, 28.04it/s]\n"
          ]
        },
        {
          "output_type": "stream",
          "name": "stdout",
          "text": [
            "Training Loss: 0.1954 Acc: 0.9323\n"
          ]
        },
        {
          "output_type": "stream",
          "name": "stderr",
          "text": [
            "Validation: 100%|█████████████████████████████████████████████████████████████████| 12/12 [00:00<00:00, 31.86it/s]"
          ]
        },
        {
          "output_type": "stream",
          "name": "stdout",
          "text": [
            "Validation Loss: 0.6862 Acc: 0.7420\n"
          ]
        },
        {
          "output_type": "stream",
          "name": "stderr",
          "text": [
            "\n"
          ]
        }
      ]
    },
    {
      "cell_type": "code",
      "source": [
        "# Save model\n",
        "torch.save(model.state_dict(), './models/baseline.pth')"
      ],
      "metadata": {
        "id": "ORln8kdtjtAe"
      },
      "execution_count": null,
      "outputs": []
    },
    {
      "cell_type": "code",
      "source": [
        "test(model, test_loader, model_type='baseline')"
      ],
      "metadata": {
        "colab": {
          "base_uri": "https://localhost:8080/"
        },
        "outputId": "7a9b39f1-2295-4f23-a7fa-69b6710cbbc8",
        "id": "W-Z2EW6qjtAi"
      },
      "execution_count": null,
      "outputs": [
        {
          "output_type": "stream",
          "name": "stderr",
          "text": [
            "Testing: 100%|████████████████████████████████████████████████████████████████████| 15/15 [00:00<00:00, 72.54it/s]\n"
          ]
        },
        {
          "output_type": "execute_result",
          "data": {
            "text/plain": [
              "array([[203.,  27.],\n",
              "       [ 68., 162.]])"
            ]
          },
          "metadata": {},
          "execution_count": 32
        }
      ]
    },
    {
      "cell_type": "code",
      "source": [
        "plot_history(*history)"
      ],
      "metadata": {
        "colab": {
          "base_uri": "https://localhost:8080/",
          "height": 388
        },
        "outputId": "ae5d8b9f-817e-49a0-b0fa-d908f0dbec76",
        "id": "-IuhTpiKjtAi"
      },
      "execution_count": null,
      "outputs": [
        {
          "output_type": "display_data",
          "data": {
            "text/plain": [
              "<Figure size 1200x400 with 2 Axes>"
            ],
            "image/png": "[encoded data removed]"
          },
          "metadata": {}
        }
      ]
    },
    {
      "cell_type": "code",
      "source": [
        "plot_roc(model, test_loader)"
      ],
      "metadata": {
        "colab": {
          "base_uri": "https://localhost:8080/",
          "height": 467
        },
        "id": "p_CfDlY2kAhq",
        "outputId": "b909aa62-1cec-4f18-85de-74c530b50671"
      },
      "execution_count": null,
      "outputs": [
        {
          "output_type": "stream",
          "name": "stderr",
          "text": [
            "Testing: 100%|████████████████████████████████████████████████████████████████████| 15/15 [00:00<00:00, 22.13it/s]\n"
          ]
        },
        {
          "output_type": "display_data",
          "data": {
            "text/plain": [
              "<Figure size 640x480 with 1 Axes>"
            ],
            "image/png": "[encoded data removed]"
          },
          "metadata": {}
        }
      ]
    },
    {
      "cell_type": "markdown",
      "source": [
        "### Model 1: MobileNet-v2"
      ],
      "metadata": {
        "id": "Rmmfoh2pbzM7"
      }
    },
    {
      "cell_type": "code",
      "source": [
        "def create_mobilenet_binary_classifier(**kwargs):\n",
        "    model = models.mobilenet_v2(**kwargs)\n",
        "    model.classifier = nn.Sequential(\n",
        "        nn.Dropout(0.15),\n",
        "        nn.Linear(model.classifier[1].in_features, 2)  # Change to 3 outputs\n",
        "    )\n",
        "    device = torch.device(\"cuda\" if torch.cuda.is_available() else \"cpu\")\n",
        "    model = model.to(device)\n",
        "    return model"
      ],
      "metadata": {
        "id": "I8eH_q64KzDS"
      },
      "execution_count": null,
      "outputs": []
    },
    {
      "cell_type": "code",
      "source": [
        "# Create the model\n",
        "model = create_mobilenet_binary_classifier(pretrained=True, width_mult=1.0)\n",
        "criterion = torch.nn.CrossEntropyLoss()\n",
        "optimizer = torch.optim.Adam(model.parameters(), lr=0.001)\n",
        "# optimizer = torch.optim.SGD(model.parameters(), lr=1e-3, momentum=0.9)"
      ],
      "metadata": {
        "id": "sLbXDwDKQ9-d"
      },
      "execution_count": null,
      "outputs": []
    },
    {
      "cell_type": "code",
      "source": [
        "model, history = train(model, criterion, optimizer, epochs=BINARY_EPOCH, train_loader=train_loader, validation_loader=validation_loader)"
      ],
      "metadata": {
        "colab": {
          "base_uri": "https://localhost:8080/"
        },
        "id": "ek-lD2TGTX3h",
        "outputId": "8315205f-1527-4530-fb4e-e6b51a002c9b"
      },
      "execution_count": null,
      "outputs": [
        {
          "output_type": "stream",
          "name": "stdout",
          "text": [
            "Epoch 1 / 20\n"
          ]
        },
        {
          "output_type": "stream",
          "name": "stderr",
          "text": [
            "Training: 100%|███████████████████████████████████████████████████████████████████| 58/58 [00:04<00:00, 13.34it/s]\n"
          ]
        },
        {
          "output_type": "stream",
          "name": "stdout",
          "text": [
            "Training Loss: 0.3731 Acc: 0.8297\n"
          ]
        },
        {
          "output_type": "stream",
          "name": "stderr",
          "text": [
            "Validation: 100%|█████████████████████████████████████████████████████████████████| 12/12 [00:00<00:00, 22.52it/s]\n"
          ]
        },
        {
          "output_type": "stream",
          "name": "stdout",
          "text": [
            "Validation Loss: 0.3662 Acc: 0.8431\n",
            "Epoch 2 / 20\n"
          ]
        },
        {
          "output_type": "stream",
          "name": "stderr",
          "text": [
            "Training: 100%|███████████████████████████████████████████████████████████████████| 58/58 [00:04<00:00, 13.83it/s]\n"
          ]
        },
        {
          "output_type": "stream",
          "name": "stdout",
          "text": [
            "Training Loss: 0.2074 Acc: 0.9219\n"
          ]
        },
        {
          "output_type": "stream",
          "name": "stderr",
          "text": [
            "Validation: 100%|█████████████████████████████████████████████████████████████████| 12/12 [00:00<00:00, 25.51it/s]\n"
          ]
        },
        {
          "output_type": "stream",
          "name": "stdout",
          "text": [
            "Validation Loss: 0.2069 Acc: 0.9016\n",
            "Epoch 3 / 20\n"
          ]
        },
        {
          "output_type": "stream",
          "name": "stderr",
          "text": [
            "Training: 100%|███████████████████████████████████████████████████████████████████| 58/58 [00:04<00:00, 13.82it/s]\n"
          ]
        },
        {
          "output_type": "stream",
          "name": "stdout",
          "text": [
            "Training Loss: 0.1848 Acc: 0.9301\n"
          ]
        },
        {
          "output_type": "stream",
          "name": "stderr",
          "text": [
            "Validation: 100%|█████████████████████████████████████████████████████████████████| 12/12 [00:00<00:00, 24.97it/s]\n"
          ]
        },
        {
          "output_type": "stream",
          "name": "stdout",
          "text": [
            "Validation Loss: 0.3954 Acc: 0.8165\n",
            "Epoch 4 / 20\n"
          ]
        },
        {
          "output_type": "stream",
          "name": "stderr",
          "text": [
            "Training: 100%|███████████████████████████████████████████████████████████████████| 58/58 [00:04<00:00, 13.84it/s]\n"
          ]
        },
        {
          "output_type": "stream",
          "name": "stdout",
          "text": [
            "Training Loss: 0.1739 Acc: 0.9290\n"
          ]
        },
        {
          "output_type": "stream",
          "name": "stderr",
          "text": [
            "Validation: 100%|█████████████████████████████████████████████████████████████████| 12/12 [00:00<00:00, 22.79it/s]\n"
          ]
        },
        {
          "output_type": "stream",
          "name": "stdout",
          "text": [
            "Validation Loss: 0.2569 Acc: 0.9016\n",
            "Epoch 5 / 20\n"
          ]
        },
        {
          "output_type": "stream",
          "name": "stderr",
          "text": [
            "Training: 100%|███████████████████████████████████████████████████████████████████| 58/58 [00:04<00:00, 13.74it/s]\n"
          ]
        },
        {
          "output_type": "stream",
          "name": "stdout",
          "text": [
            "Training Loss: 0.1236 Acc: 0.9498\n"
          ]
        },
        {
          "output_type": "stream",
          "name": "stderr",
          "text": [
            "Validation: 100%|█████████████████████████████████████████████████████████████████| 12/12 [00:00<00:00, 25.19it/s]\n"
          ]
        },
        {
          "output_type": "stream",
          "name": "stdout",
          "text": [
            "Validation Loss: 0.3565 Acc: 0.9122\n",
            "Epoch 6 / 20\n"
          ]
        },
        {
          "output_type": "stream",
          "name": "stderr",
          "text": [
            "Training: 100%|███████████████████████████████████████████████████████████████████| 58/58 [00:04<00:00, 13.84it/s]\n"
          ]
        },
        {
          "output_type": "stream",
          "name": "stdout",
          "text": [
            "Training Loss: 0.1373 Acc: 0.9514\n"
          ]
        },
        {
          "output_type": "stream",
          "name": "stderr",
          "text": [
            "Validation: 100%|█████████████████████████████████████████████████████████████████| 12/12 [00:00<00:00, 25.12it/s]\n"
          ]
        },
        {
          "output_type": "stream",
          "name": "stdout",
          "text": [
            "Validation Loss: 0.3091 Acc: 0.8883\n",
            "Epoch 7 / 20\n"
          ]
        },
        {
          "output_type": "stream",
          "name": "stderr",
          "text": [
            "Training: 100%|███████████████████████████████████████████████████████████████████| 58/58 [00:04<00:00, 13.63it/s]\n"
          ]
        },
        {
          "output_type": "stream",
          "name": "stdout",
          "text": [
            "Training Loss: 0.1087 Acc: 0.9552\n"
          ]
        },
        {
          "output_type": "stream",
          "name": "stderr",
          "text": [
            "Validation: 100%|█████████████████████████████████████████████████████████████████| 12/12 [00:00<00:00, 25.05it/s]\n"
          ]
        },
        {
          "output_type": "stream",
          "name": "stdout",
          "text": [
            "Validation Loss: 0.3085 Acc: 0.8431\n",
            "Epoch 8 / 20\n"
          ]
        },
        {
          "output_type": "stream",
          "name": "stderr",
          "text": [
            "Training: 100%|███████████████████████████████████████████████████████████████████| 58/58 [00:04<00:00, 13.85it/s]\n"
          ]
        },
        {
          "output_type": "stream",
          "name": "stdout",
          "text": [
            "Training Loss: 0.0884 Acc: 0.9667\n"
          ]
        },
        {
          "output_type": "stream",
          "name": "stderr",
          "text": [
            "Validation: 100%|█████████████████████████████████████████████████████████████████| 12/12 [00:00<00:00, 24.42it/s]\n"
          ]
        },
        {
          "output_type": "stream",
          "name": "stdout",
          "text": [
            "Validation Loss: 0.6977 Acc: 0.8085\n",
            "Epoch 9 / 20\n"
          ]
        },
        {
          "output_type": "stream",
          "name": "stderr",
          "text": [
            "Training: 100%|███████████████████████████████████████████████████████████████████| 58/58 [00:04<00:00, 13.51it/s]\n"
          ]
        },
        {
          "output_type": "stream",
          "name": "stdout",
          "text": [
            "Training Loss: 0.1294 Acc: 0.9520\n"
          ]
        },
        {
          "output_type": "stream",
          "name": "stderr",
          "text": [
            "Validation: 100%|█████████████████████████████████████████████████████████████████| 12/12 [00:00<00:00, 23.53it/s]\n"
          ]
        },
        {
          "output_type": "stream",
          "name": "stdout",
          "text": [
            "Validation Loss: 0.2881 Acc: 0.8670\n",
            "Epoch 10 / 20\n"
          ]
        },
        {
          "output_type": "stream",
          "name": "stderr",
          "text": [
            "Training: 100%|███████████████████████████████████████████████████████████████████| 58/58 [00:04<00:00, 13.66it/s]\n"
          ]
        },
        {
          "output_type": "stream",
          "name": "stdout",
          "text": [
            "Training Loss: 0.1040 Acc: 0.9580\n"
          ]
        },
        {
          "output_type": "stream",
          "name": "stderr",
          "text": [
            "Validation: 100%|█████████████████████████████████████████████████████████████████| 12/12 [00:00<00:00, 24.27it/s]\n"
          ]
        },
        {
          "output_type": "stream",
          "name": "stdout",
          "text": [
            "Validation Loss: 0.3297 Acc: 0.8883\n",
            "Epoch 11 / 20\n"
          ]
        },
        {
          "output_type": "stream",
          "name": "stderr",
          "text": [
            "Training: 100%|███████████████████████████████████████████████████████████████████| 58/58 [00:04<00:00, 13.38it/s]\n"
          ]
        },
        {
          "output_type": "stream",
          "name": "stdout",
          "text": [
            "Training Loss: 0.0785 Acc: 0.9700\n"
          ]
        },
        {
          "output_type": "stream",
          "name": "stderr",
          "text": [
            "Validation: 100%|█████████████████████████████████████████████████████████████████| 12/12 [00:00<00:00, 24.37it/s]\n"
          ]
        },
        {
          "output_type": "stream",
          "name": "stdout",
          "text": [
            "Validation Loss: 0.3174 Acc: 0.9096\n",
            "Epoch 12 / 20\n"
          ]
        },
        {
          "output_type": "stream",
          "name": "stderr",
          "text": [
            "Training: 100%|███████████████████████████████████████████████████████████████████| 58/58 [00:04<00:00, 13.65it/s]\n"
          ]
        },
        {
          "output_type": "stream",
          "name": "stdout",
          "text": [
            "Training Loss: 0.1017 Acc: 0.9607\n"
          ]
        },
        {
          "output_type": "stream",
          "name": "stderr",
          "text": [
            "Validation: 100%|█████████████████████████████████████████████████████████████████| 12/12 [00:00<00:00, 23.80it/s]\n"
          ]
        },
        {
          "output_type": "stream",
          "name": "stdout",
          "text": [
            "Validation Loss: 0.3759 Acc: 0.8617\n",
            "Epoch 13 / 20\n"
          ]
        },
        {
          "output_type": "stream",
          "name": "stderr",
          "text": [
            "Training: 100%|███████████████████████████████████████████████████████████████████| 58/58 [00:04<00:00, 13.57it/s]\n"
          ]
        },
        {
          "output_type": "stream",
          "name": "stdout",
          "text": [
            "Training Loss: 0.0777 Acc: 0.9733\n"
          ]
        },
        {
          "output_type": "stream",
          "name": "stderr",
          "text": [
            "Validation: 100%|█████████████████████████████████████████████████████████████████| 12/12 [00:00<00:00, 24.25it/s]\n"
          ]
        },
        {
          "output_type": "stream",
          "name": "stdout",
          "text": [
            "Validation Loss: 0.2031 Acc: 0.9202\n",
            "Epoch 14 / 20\n"
          ]
        },
        {
          "output_type": "stream",
          "name": "stderr",
          "text": [
            "Training: 100%|███████████████████████████████████████████████████████████████████| 58/58 [00:04<00:00, 13.25it/s]\n"
          ]
        },
        {
          "output_type": "stream",
          "name": "stdout",
          "text": [
            "Training Loss: 0.0524 Acc: 0.9814\n"
          ]
        },
        {
          "output_type": "stream",
          "name": "stderr",
          "text": [
            "Validation: 100%|█████████████████████████████████████████████████████████████████| 12/12 [00:00<00:00, 24.54it/s]\n"
          ]
        },
        {
          "output_type": "stream",
          "name": "stdout",
          "text": [
            "Validation Loss: 0.2840 Acc: 0.9122\n",
            "Epoch 15 / 20\n"
          ]
        },
        {
          "output_type": "stream",
          "name": "stderr",
          "text": [
            "Training: 100%|███████████████████████████████████████████████████████████████████| 58/58 [00:04<00:00, 13.84it/s]\n"
          ]
        },
        {
          "output_type": "stream",
          "name": "stdout",
          "text": [
            "Training Loss: 0.2305 Acc: 0.9127\n"
          ]
        },
        {
          "output_type": "stream",
          "name": "stderr",
          "text": [
            "Validation: 100%|█████████████████████████████████████████████████████████████████| 12/12 [00:00<00:00, 24.87it/s]\n"
          ]
        },
        {
          "output_type": "stream",
          "name": "stdout",
          "text": [
            "Validation Loss: 0.4413 Acc: 0.8191\n",
            "Epoch 16 / 20\n"
          ]
        },
        {
          "output_type": "stream",
          "name": "stderr",
          "text": [
            "Training: 100%|███████████████████████████████████████████████████████████████████| 58/58 [00:04<00:00, 13.79it/s]\n"
          ]
        },
        {
          "output_type": "stream",
          "name": "stdout",
          "text": [
            "Training Loss: 0.1249 Acc: 0.9558\n"
          ]
        },
        {
          "output_type": "stream",
          "name": "stderr",
          "text": [
            "Validation: 100%|█████████████████████████████████████████████████████████████████| 12/12 [00:00<00:00, 24.78it/s]\n"
          ]
        },
        {
          "output_type": "stream",
          "name": "stdout",
          "text": [
            "Validation Loss: 0.2668 Acc: 0.8963\n",
            "Epoch 17 / 20\n"
          ]
        },
        {
          "output_type": "stream",
          "name": "stderr",
          "text": [
            "Training: 100%|███████████████████████████████████████████████████████████████████| 58/58 [00:04<00:00, 13.57it/s]\n"
          ]
        },
        {
          "output_type": "stream",
          "name": "stdout",
          "text": [
            "Training Loss: 0.0687 Acc: 0.9754\n"
          ]
        },
        {
          "output_type": "stream",
          "name": "stderr",
          "text": [
            "Validation: 100%|█████████████████████████████████████████████████████████████████| 12/12 [00:00<00:00, 24.85it/s]\n"
          ]
        },
        {
          "output_type": "stream",
          "name": "stdout",
          "text": [
            "Validation Loss: 0.3867 Acc: 0.8936\n",
            "Epoch 18 / 20\n"
          ]
        },
        {
          "output_type": "stream",
          "name": "stderr",
          "text": [
            "Training: 100%|███████████████████████████████████████████████████████████████████| 58/58 [00:04<00:00, 13.61it/s]\n"
          ]
        },
        {
          "output_type": "stream",
          "name": "stdout",
          "text": [
            "Training Loss: 0.0805 Acc: 0.9700\n"
          ]
        },
        {
          "output_type": "stream",
          "name": "stderr",
          "text": [
            "Validation: 100%|█████████████████████████████████████████████████████████████████| 12/12 [00:00<00:00, 24.81it/s]\n"
          ]
        },
        {
          "output_type": "stream",
          "name": "stdout",
          "text": [
            "Validation Loss: 0.2731 Acc: 0.9016\n",
            "Epoch 19 / 20\n"
          ]
        },
        {
          "output_type": "stream",
          "name": "stderr",
          "text": [
            "Training: 100%|███████████████████████████████████████████████████████████████████| 58/58 [00:04<00:00, 13.71it/s]\n"
          ]
        },
        {
          "output_type": "stream",
          "name": "stdout",
          "text": [
            "Training Loss: 0.1011 Acc: 0.9602\n"
          ]
        },
        {
          "output_type": "stream",
          "name": "stderr",
          "text": [
            "Validation: 100%|█████████████████████████████████████████████████████████████████| 12/12 [00:00<00:00, 25.25it/s]\n"
          ]
        },
        {
          "output_type": "stream",
          "name": "stdout",
          "text": [
            "Validation Loss: 0.2260 Acc: 0.9122\n",
            "Epoch 20 / 20\n"
          ]
        },
        {
          "output_type": "stream",
          "name": "stderr",
          "text": [
            "Training: 100%|███████████████████████████████████████████████████████████████████| 58/58 [00:04<00:00, 13.71it/s]\n"
          ]
        },
        {
          "output_type": "stream",
          "name": "stdout",
          "text": [
            "Training Loss: 0.0577 Acc: 0.9809\n"
          ]
        },
        {
          "output_type": "stream",
          "name": "stderr",
          "text": [
            "Validation: 100%|█████████████████████████████████████████████████████████████████| 12/12 [00:00<00:00, 24.72it/s]"
          ]
        },
        {
          "output_type": "stream",
          "name": "stdout",
          "text": [
            "Validation Loss: 0.2999 Acc: 0.9043\n"
          ]
        },
        {
          "output_type": "stream",
          "name": "stderr",
          "text": [
            "\n"
          ]
        }
      ]
    },
    {
      "cell_type": "code",
      "source": [
        "# Save model\n",
        "torch.save(model.state_dict(), './models/mobilenet-v2.pth')"
      ],
      "metadata": {
        "id": "1kdX0c-qWdcc"
      },
      "execution_count": null,
      "outputs": []
    },
    {
      "cell_type": "code",
      "source": [
        "test(model, test_loader)"
      ],
      "metadata": {
        "colab": {
          "base_uri": "https://localhost:8080/"
        },
        "id": "dUmYYZEJVvj1",
        "outputId": "300407ea-c7a0-45b0-86a2-252b6debd4d9"
      },
      "execution_count": null,
      "outputs": [
        {
          "output_type": "stream",
          "name": "stderr",
          "text": [
            "Testing: 100%|████████████████████████████████████████████████████████████████████| 15/15 [00:00<00:00, 47.97it/s]\n"
          ]
        },
        {
          "output_type": "execute_result",
          "data": {
            "text/plain": [
              "array([[217.,  13.],\n",
              "       [ 11., 219.]])"
            ]
          },
          "metadata": {},
          "execution_count": 105
        }
      ]
    },
    {
      "cell_type": "code",
      "source": [
        "plot_history(*history)"
      ],
      "metadata": {
        "colab": {
          "base_uri": "https://localhost:8080/",
          "height": 388
        },
        "id": "RQSNBPeW8-ao",
        "outputId": "8d75adf1-a269-47c5-b7ed-321958aa5442"
      },
      "execution_count": null,
      "outputs": [
        {
          "output_type": "display_data",
          "data": {
            "text/plain": [
              "<Figure size 1200x400 with 2 Axes>"
            ],
            "image/png": "[encoded data removed]"
          },
          "metadata": {}
        }
      ]
    },
    {
      "cell_type": "markdown",
      "source": [
        "### Model 2: ResNet50"
      ],
      "metadata": {
        "id": "gn3GSV8Kcdsj"
      }
    },
    {
      "cell_type": "code",
      "source": [
        "def create_resnet50_binary_classifier(**kwargs):\n",
        "    kwargs['weights'] = models.ResNet50_Weights.DEFAULT\n",
        "    model = models.resnet50(**kwargs)\n",
        "    model.fc = torch.nn.Linear(model.fc.in_features, 2)\n",
        "    model = model.to(device)\n",
        "    return model"
      ],
      "metadata": {
        "id": "b-4KIcRMRkrE"
      },
      "execution_count": null,
      "outputs": []
    },
    {
      "cell_type": "code",
      "source": [
        "# Create the model\n",
        "model = create_resnet50_binary_classifier()\n",
        "criterion = torch.nn.CrossEntropyLoss()\n",
        "optimizer = torch.optim.SGD(model.parameters(), lr=1e-3, momentum=0.9)"
      ],
      "metadata": {
        "id": "omiXVbi9cjJ7"
      },
      "execution_count": null,
      "outputs": []
    },
    {
      "cell_type": "code",
      "source": [
        "model, history = train(model, criterion, optimizer, epochs=BINARY_EPOCH, train_loader=train_loader, validation_loader=validation_loader)"
      ],
      "metadata": {
        "colab": {
          "base_uri": "https://localhost:8080/"
        },
        "id": "i_jeL7plWXgH",
        "outputId": "e6f69b59-b427-454a-8714-0f979aeabf74"
      },
      "execution_count": null,
      "outputs": [
        {
          "output_type": "stream",
          "name": "stdout",
          "text": [
            "Epoch 1 / 20\n"
          ]
        },
        {
          "output_type": "stream",
          "name": "stderr",
          "text": [
            "Training: 100%|███████████████████████████████████████████████████████████████████| 58/58 [00:08<00:00,  7.16it/s]\n"
          ]
        },
        {
          "output_type": "stream",
          "name": "stdout",
          "text": [
            "Training Loss: 0.5595 Acc: 0.7445\n"
          ]
        },
        {
          "output_type": "stream",
          "name": "stderr",
          "text": [
            "Validation: 100%|█████████████████████████████████████████████████████████████████| 12/12 [00:00<00:00, 17.27it/s]\n"
          ]
        },
        {
          "output_type": "stream",
          "name": "stdout",
          "text": [
            "Validation Loss: 0.4212 Acc: 0.8644\n",
            "Epoch 2 / 20\n"
          ]
        },
        {
          "output_type": "stream",
          "name": "stderr",
          "text": [
            "Training: 100%|███████████████████████████████████████████████████████████████████| 58/58 [00:07<00:00,  8.17it/s]\n"
          ]
        },
        {
          "output_type": "stream",
          "name": "stdout",
          "text": [
            "Training Loss: 0.3573 Acc: 0.8548\n"
          ]
        },
        {
          "output_type": "stream",
          "name": "stderr",
          "text": [
            "Validation: 100%|█████████████████████████████████████████████████████████████████| 12/12 [00:00<00:00, 17.22it/s]\n"
          ]
        },
        {
          "output_type": "stream",
          "name": "stdout",
          "text": [
            "Validation Loss: 0.2954 Acc: 0.8989\n",
            "Epoch 3 / 20\n"
          ]
        },
        {
          "output_type": "stream",
          "name": "stderr",
          "text": [
            "Training: 100%|███████████████████████████████████████████████████████████████████| 58/58 [00:07<00:00,  8.24it/s]\n"
          ]
        },
        {
          "output_type": "stream",
          "name": "stdout",
          "text": [
            "Training Loss: 0.2767 Acc: 0.8892\n"
          ]
        },
        {
          "output_type": "stream",
          "name": "stderr",
          "text": [
            "Validation: 100%|█████████████████████████████████████████████████████████████████| 12/12 [00:00<00:00, 17.89it/s]\n"
          ]
        },
        {
          "output_type": "stream",
          "name": "stdout",
          "text": [
            "Validation Loss: 0.2544 Acc: 0.9255\n",
            "Epoch 4 / 20\n"
          ]
        },
        {
          "output_type": "stream",
          "name": "stderr",
          "text": [
            "Training: 100%|███████████████████████████████████████████████████████████████████| 58/58 [00:07<00:00,  8.17it/s]\n"
          ]
        },
        {
          "output_type": "stream",
          "name": "stdout",
          "text": [
            "Training Loss: 0.2245 Acc: 0.9083\n"
          ]
        },
        {
          "output_type": "stream",
          "name": "stderr",
          "text": [
            "Validation: 100%|█████████████████████████████████████████████████████████████████| 12/12 [00:00<00:00, 17.41it/s]\n"
          ]
        },
        {
          "output_type": "stream",
          "name": "stdout",
          "text": [
            "Validation Loss: 0.2108 Acc: 0.9335\n",
            "Epoch 5 / 20\n"
          ]
        },
        {
          "output_type": "stream",
          "name": "stderr",
          "text": [
            "Training: 100%|███████████████████████████████████████████████████████████████████| 58/58 [00:07<00:00,  8.15it/s]\n"
          ]
        },
        {
          "output_type": "stream",
          "name": "stdout",
          "text": [
            "Training Loss: 0.1680 Acc: 0.9405\n"
          ]
        },
        {
          "output_type": "stream",
          "name": "stderr",
          "text": [
            "Validation: 100%|█████████████████████████████████████████████████████████████████| 12/12 [00:00<00:00, 17.67it/s]\n"
          ]
        },
        {
          "output_type": "stream",
          "name": "stdout",
          "text": [
            "Validation Loss: 0.1856 Acc: 0.9441\n",
            "Epoch 6 / 20\n"
          ]
        },
        {
          "output_type": "stream",
          "name": "stderr",
          "text": [
            "Training: 100%|███████████████████████████████████████████████████████████████████| 58/58 [00:07<00:00,  8.12it/s]\n"
          ]
        },
        {
          "output_type": "stream",
          "name": "stdout",
          "text": [
            "Training Loss: 0.1438 Acc: 0.9514\n"
          ]
        },
        {
          "output_type": "stream",
          "name": "stderr",
          "text": [
            "Validation: 100%|█████████████████████████████████████████████████████████████████| 12/12 [00:00<00:00, 17.31it/s]\n"
          ]
        },
        {
          "output_type": "stream",
          "name": "stdout",
          "text": [
            "Validation Loss: 0.2093 Acc: 0.9202\n",
            "Epoch 7 / 20\n"
          ]
        },
        {
          "output_type": "stream",
          "name": "stderr",
          "text": [
            "Training: 100%|███████████████████████████████████████████████████████████████████| 58/58 [00:07<00:00,  7.55it/s]\n"
          ]
        },
        {
          "output_type": "stream",
          "name": "stdout",
          "text": [
            "Training Loss: 0.1088 Acc: 0.9651\n"
          ]
        },
        {
          "output_type": "stream",
          "name": "stderr",
          "text": [
            "Validation: 100%|█████████████████████████████████████████████████████████████████| 12/12 [00:00<00:00, 16.70it/s]\n"
          ]
        },
        {
          "output_type": "stream",
          "name": "stdout",
          "text": [
            "Validation Loss: 0.1777 Acc: 0.9415\n",
            "Epoch 8 / 20\n"
          ]
        },
        {
          "output_type": "stream",
          "name": "stderr",
          "text": [
            "Training: 100%|███████████████████████████████████████████████████████████████████| 58/58 [00:07<00:00,  8.09it/s]\n"
          ]
        },
        {
          "output_type": "stream",
          "name": "stdout",
          "text": [
            "Training Loss: 0.1008 Acc: 0.9640\n"
          ]
        },
        {
          "output_type": "stream",
          "name": "stderr",
          "text": [
            "Validation: 100%|█████████████████████████████████████████████████████████████████| 12/12 [00:00<00:00, 17.36it/s]\n"
          ]
        },
        {
          "output_type": "stream",
          "name": "stdout",
          "text": [
            "Validation Loss: 0.1944 Acc: 0.9229\n",
            "Epoch 9 / 20\n"
          ]
        },
        {
          "output_type": "stream",
          "name": "stderr",
          "text": [
            "Training: 100%|███████████████████████████████████████████████████████████████████| 58/58 [00:07<00:00,  8.22it/s]\n"
          ]
        },
        {
          "output_type": "stream",
          "name": "stdout",
          "text": [
            "Training Loss: 0.0884 Acc: 0.9711\n"
          ]
        },
        {
          "output_type": "stream",
          "name": "stderr",
          "text": [
            "Validation: 100%|█████████████████████████████████████████████████████████████████| 12/12 [00:00<00:00, 17.96it/s]\n"
          ]
        },
        {
          "output_type": "stream",
          "name": "stdout",
          "text": [
            "Validation Loss: 0.1771 Acc: 0.9388\n",
            "Epoch 10 / 20\n"
          ]
        },
        {
          "output_type": "stream",
          "name": "stderr",
          "text": [
            "Training: 100%|███████████████████████████████████████████████████████████████████| 58/58 [00:07<00:00,  8.15it/s]\n"
          ]
        },
        {
          "output_type": "stream",
          "name": "stdout",
          "text": [
            "Training Loss: 0.0700 Acc: 0.9793\n"
          ]
        },
        {
          "output_type": "stream",
          "name": "stderr",
          "text": [
            "Validation: 100%|█████████████████████████████████████████████████████████████████| 12/12 [00:00<00:00, 16.78it/s]\n"
          ]
        },
        {
          "output_type": "stream",
          "name": "stdout",
          "text": [
            "Validation Loss: 0.1736 Acc: 0.9495\n",
            "Epoch 11 / 20\n"
          ]
        },
        {
          "output_type": "stream",
          "name": "stderr",
          "text": [
            "Training: 100%|███████████████████████████████████████████████████████████████████| 58/58 [00:07<00:00,  8.03it/s]\n"
          ]
        },
        {
          "output_type": "stream",
          "name": "stdout",
          "text": [
            "Training Loss: 0.0665 Acc: 0.9793\n"
          ]
        },
        {
          "output_type": "stream",
          "name": "stderr",
          "text": [
            "Validation: 100%|█████████████████████████████████████████████████████████████████| 12/12 [00:00<00:00, 17.07it/s]\n"
          ]
        },
        {
          "output_type": "stream",
          "name": "stdout",
          "text": [
            "Validation Loss: 0.1563 Acc: 0.9601\n",
            "Epoch 12 / 20\n"
          ]
        },
        {
          "output_type": "stream",
          "name": "stderr",
          "text": [
            "Training: 100%|███████████████████████████████████████████████████████████████████| 58/58 [00:07<00:00,  8.15it/s]\n"
          ]
        },
        {
          "output_type": "stream",
          "name": "stdout",
          "text": [
            "Training Loss: 0.0548 Acc: 0.9869\n"
          ]
        },
        {
          "output_type": "stream",
          "name": "stderr",
          "text": [
            "Validation: 100%|█████████████████████████████████████████████████████████████████| 12/12 [00:00<00:00, 17.53it/s]\n"
          ]
        },
        {
          "output_type": "stream",
          "name": "stdout",
          "text": [
            "Validation Loss: 0.1514 Acc: 0.9468\n",
            "Epoch 13 / 20\n"
          ]
        },
        {
          "output_type": "stream",
          "name": "stderr",
          "text": [
            "Training: 100%|███████████████████████████████████████████████████████████████████| 58/58 [00:07<00:00,  8.07it/s]\n"
          ]
        },
        {
          "output_type": "stream",
          "name": "stdout",
          "text": [
            "Training Loss: 0.0479 Acc: 0.9864\n"
          ]
        },
        {
          "output_type": "stream",
          "name": "stderr",
          "text": [
            "Validation: 100%|█████████████████████████████████████████████████████████████████| 12/12 [00:00<00:00, 17.80it/s]\n"
          ]
        },
        {
          "output_type": "stream",
          "name": "stdout",
          "text": [
            "Validation Loss: 0.1559 Acc: 0.9521\n",
            "Epoch 14 / 20\n"
          ]
        },
        {
          "output_type": "stream",
          "name": "stderr",
          "text": [
            "Training: 100%|███████████████████████████████████████████████████████████████████| 58/58 [00:07<00:00,  8.16it/s]\n"
          ]
        },
        {
          "output_type": "stream",
          "name": "stdout",
          "text": [
            "Training Loss: 0.0452 Acc: 0.9874\n"
          ]
        },
        {
          "output_type": "stream",
          "name": "stderr",
          "text": [
            "Validation: 100%|█████████████████████████████████████████████████████████████████| 12/12 [00:00<00:00, 17.28it/s]\n"
          ]
        },
        {
          "output_type": "stream",
          "name": "stdout",
          "text": [
            "Validation Loss: 0.1642 Acc: 0.9521\n",
            "Epoch 15 / 20\n"
          ]
        },
        {
          "output_type": "stream",
          "name": "stderr",
          "text": [
            "Training: 100%|███████████████████████████████████████████████████████████████████| 58/58 [00:06<00:00,  8.30it/s]\n"
          ]
        },
        {
          "output_type": "stream",
          "name": "stdout",
          "text": [
            "Training Loss: 0.0420 Acc: 0.9864\n"
          ]
        },
        {
          "output_type": "stream",
          "name": "stderr",
          "text": [
            "Validation: 100%|█████████████████████████████████████████████████████████████████| 12/12 [00:00<00:00, 18.03it/s]\n"
          ]
        },
        {
          "output_type": "stream",
          "name": "stdout",
          "text": [
            "Validation Loss: 0.1480 Acc: 0.9601\n",
            "Epoch 16 / 20\n"
          ]
        },
        {
          "output_type": "stream",
          "name": "stderr",
          "text": [
            "Training: 100%|███████████████████████████████████████████████████████████████████| 58/58 [00:07<00:00,  8.18it/s]\n"
          ]
        },
        {
          "output_type": "stream",
          "name": "stdout",
          "text": [
            "Training Loss: 0.0385 Acc: 0.9891\n"
          ]
        },
        {
          "output_type": "stream",
          "name": "stderr",
          "text": [
            "Validation: 100%|█████████████████████████████████████████████████████████████████| 12/12 [00:00<00:00, 17.61it/s]\n"
          ]
        },
        {
          "output_type": "stream",
          "name": "stdout",
          "text": [
            "Validation Loss: 0.1437 Acc: 0.9681\n",
            "Epoch 17 / 20\n"
          ]
        },
        {
          "output_type": "stream",
          "name": "stderr",
          "text": [
            "Training: 100%|███████████████████████████████████████████████████████████████████| 58/58 [00:07<00:00,  8.22it/s]\n"
          ]
        },
        {
          "output_type": "stream",
          "name": "stdout",
          "text": [
            "Training Loss: 0.0341 Acc: 0.9896\n"
          ]
        },
        {
          "output_type": "stream",
          "name": "stderr",
          "text": [
            "Validation: 100%|█████████████████████████████████████████████████████████████████| 12/12 [00:00<00:00, 17.49it/s]\n"
          ]
        },
        {
          "output_type": "stream",
          "name": "stdout",
          "text": [
            "Validation Loss: 0.1563 Acc: 0.9574\n",
            "Epoch 18 / 20\n"
          ]
        },
        {
          "output_type": "stream",
          "name": "stderr",
          "text": [
            "Training: 100%|███████████████████████████████████████████████████████████████████| 58/58 [00:07<00:00,  8.06it/s]\n"
          ]
        },
        {
          "output_type": "stream",
          "name": "stdout",
          "text": [
            "Training Loss: 0.0436 Acc: 0.9858\n"
          ]
        },
        {
          "output_type": "stream",
          "name": "stderr",
          "text": [
            "Validation: 100%|█████████████████████████████████████████████████████████████████| 12/12 [00:00<00:00, 17.96it/s]\n"
          ]
        },
        {
          "output_type": "stream",
          "name": "stdout",
          "text": [
            "Validation Loss: 0.1509 Acc: 0.9601\n",
            "Epoch 19 / 20\n"
          ]
        },
        {
          "output_type": "stream",
          "name": "stderr",
          "text": [
            "Training: 100%|███████████████████████████████████████████████████████████████████| 58/58 [00:07<00:00,  8.23it/s]\n"
          ]
        },
        {
          "output_type": "stream",
          "name": "stdout",
          "text": [
            "Training Loss: 0.0361 Acc: 0.9880\n"
          ]
        },
        {
          "output_type": "stream",
          "name": "stderr",
          "text": [
            "Validation: 100%|█████████████████████████████████████████████████████████████████| 12/12 [00:00<00:00, 17.05it/s]\n"
          ]
        },
        {
          "output_type": "stream",
          "name": "stdout",
          "text": [
            "Validation Loss: 0.1418 Acc: 0.9548\n",
            "Epoch 20 / 20\n"
          ]
        },
        {
          "output_type": "stream",
          "name": "stderr",
          "text": [
            "Training: 100%|███████████████████████████████████████████████████████████████████| 58/58 [00:07<00:00,  8.20it/s]\n"
          ]
        },
        {
          "output_type": "stream",
          "name": "stdout",
          "text": [
            "Training Loss: 0.0331 Acc: 0.9896\n"
          ]
        },
        {
          "output_type": "stream",
          "name": "stderr",
          "text": [
            "Validation: 100%|█████████████████████████████████████████████████████████████████| 12/12 [00:00<00:00, 18.05it/s]"
          ]
        },
        {
          "output_type": "stream",
          "name": "stdout",
          "text": [
            "Validation Loss: 0.1772 Acc: 0.9495\n"
          ]
        },
        {
          "output_type": "stream",
          "name": "stderr",
          "text": [
            "\n"
          ]
        }
      ]
    },
    {
      "cell_type": "code",
      "source": [
        "# Save model\n",
        "torch.save(model.state_dict(), './models/resnet50.pth')"
      ],
      "metadata": {
        "id": "n4RdMpmKWnd9"
      },
      "execution_count": null,
      "outputs": []
    },
    {
      "cell_type": "code",
      "source": [
        "test(model, test_loader)"
      ],
      "metadata": {
        "colab": {
          "base_uri": "https://localhost:8080/"
        },
        "id": "XcjuhUMqXDEr",
        "outputId": "e2aed345-9a84-458a-e3fe-6a62a38074d4"
      },
      "execution_count": null,
      "outputs": [
        {
          "output_type": "stream",
          "name": "stderr",
          "text": [
            "Testing: 100%|████████████████████████████████████████████████████████████████████| 15/15 [00:00<00:00, 19.12it/s]\n"
          ]
        },
        {
          "output_type": "execute_result",
          "data": {
            "text/plain": [
              "array([[215.,  15.],\n",
              "       [ 13., 217.]])"
            ]
          },
          "metadata": {},
          "execution_count": 75
        }
      ]
    },
    {
      "cell_type": "code",
      "source": [
        "plot_history(*history)"
      ],
      "metadata": {
        "colab": {
          "base_uri": "https://localhost:8080/",
          "height": 391
        },
        "id": "VgCXC-BhXD2T",
        "outputId": "f5a1ad9d-a27a-4f47-9aac-07eb9ae31e5a"
      },
      "execution_count": null,
      "outputs": [
        {
          "output_type": "display_data",
          "data": {
            "text/plain": [
              "<Figure size 1200x400 with 2 Axes>"
            ],
            "image/png": "[encoded data removed]"
          },
          "metadata": {}
        }
      ]
    },
    {
      "cell_type": "markdown",
      "source": [
        "### Model 3: DenseNet121"
      ],
      "metadata": {
        "id": "qNC5_hK7bX71"
      }
    },
    {
      "cell_type": "code",
      "source": [
        "def create_densenet121_binary_classifier(**kwargs):\n",
        "    model = models.densenet121(**kwargs)\n",
        "    model.classifier = torch.nn.Linear(model.classifier.in_features, 2)\n",
        "    model = model.to(device)\n",
        "    return model"
      ],
      "metadata": {
        "id": "3QaDq2gaccnu"
      },
      "execution_count": null,
      "outputs": []
    },
    {
      "cell_type": "code",
      "source": [
        "# Create the model\n",
        "model = create_densenet121_binary_classifier(drop_rate=0.05, weights=models.DenseNet121_Weights.DEFAULT)\n",
        "criterion = torch.nn.CrossEntropyLoss()\n",
        "# optimizer = torch.optim.Adam(model.parameters(), lr=1e-3)\n",
        "optimizer = torch.optim.SGD(model.parameters(), lr=1e-3, momentum=0.9)"
      ],
      "metadata": {
        "id": "9wbQTFOoccnz"
      },
      "execution_count": null,
      "outputs": []
    },
    {
      "cell_type": "code",
      "source": [
        "model, history = train(model, criterion, optimizer, epochs=BINARY_EPOCH, train_loader=train_loader, validation_loader=validation_loader)"
      ],
      "metadata": {
        "colab": {
          "base_uri": "https://localhost:8080/"
        },
        "id": "q6fqHp3kccnz",
        "outputId": "2852d8af-4a35-4b25-bddb-66dda10173f9"
      },
      "execution_count": null,
      "outputs": [
        {
          "output_type": "stream",
          "name": "stdout",
          "text": [
            "Epoch 1 / 20\n"
          ]
        },
        {
          "output_type": "stream",
          "name": "stderr",
          "text": [
            "Training: 100%|███████████████████████████████████████████████████████████████████| 58/58 [00:08<00:00,  6.50it/s]\n"
          ]
        },
        {
          "output_type": "stream",
          "name": "stdout",
          "text": [
            "Training Loss: 0.4440 Acc: 0.7658\n"
          ]
        },
        {
          "output_type": "stream",
          "name": "stderr",
          "text": [
            "Validation: 100%|█████████████████████████████████████████████████████████████████| 12/12 [00:00<00:00, 15.18it/s]\n"
          ]
        },
        {
          "output_type": "stream",
          "name": "stdout",
          "text": [
            "Validation Loss: 0.2148 Acc: 0.9043\n",
            "Epoch 2 / 20\n"
          ]
        },
        {
          "output_type": "stream",
          "name": "stderr",
          "text": [
            "Training: 100%|███████████████████████████████████████████████████████████████████| 58/58 [00:08<00:00,  6.65it/s]\n"
          ]
        },
        {
          "output_type": "stream",
          "name": "stdout",
          "text": [
            "Training Loss: 0.2392 Acc: 0.9039\n"
          ]
        },
        {
          "output_type": "stream",
          "name": "stderr",
          "text": [
            "Validation: 100%|█████████████████████████████████████████████████████████████████| 12/12 [00:00<00:00, 16.04it/s]\n"
          ]
        },
        {
          "output_type": "stream",
          "name": "stdout",
          "text": [
            "Validation Loss: 0.2181 Acc: 0.9069\n",
            "Epoch 3 / 20\n"
          ]
        },
        {
          "output_type": "stream",
          "name": "stderr",
          "text": [
            "Training: 100%|███████████████████████████████████████████████████████████████████| 58/58 [00:08<00:00,  6.60it/s]\n"
          ]
        },
        {
          "output_type": "stream",
          "name": "stdout",
          "text": [
            "Training Loss: 0.1907 Acc: 0.9247\n"
          ]
        },
        {
          "output_type": "stream",
          "name": "stderr",
          "text": [
            "Validation: 100%|█████████████████████████████████████████████████████████████████| 12/12 [00:00<00:00, 15.14it/s]\n"
          ]
        },
        {
          "output_type": "stream",
          "name": "stdout",
          "text": [
            "Validation Loss: 0.1495 Acc: 0.9362\n",
            "Epoch 4 / 20\n"
          ]
        },
        {
          "output_type": "stream",
          "name": "stderr",
          "text": [
            "Training: 100%|███████████████████████████████████████████████████████████████████| 58/58 [00:08<00:00,  6.69it/s]\n"
          ]
        },
        {
          "output_type": "stream",
          "name": "stdout",
          "text": [
            "Training Loss: 0.1408 Acc: 0.9421\n"
          ]
        },
        {
          "output_type": "stream",
          "name": "stderr",
          "text": [
            "Validation: 100%|█████████████████████████████████████████████████████████████████| 12/12 [00:00<00:00, 15.29it/s]\n"
          ]
        },
        {
          "output_type": "stream",
          "name": "stdout",
          "text": [
            "Validation Loss: 0.1655 Acc: 0.9229\n",
            "Epoch 5 / 20\n"
          ]
        },
        {
          "output_type": "stream",
          "name": "stderr",
          "text": [
            "Training: 100%|███████████████████████████████████████████████████████████████████| 58/58 [00:08<00:00,  6.72it/s]\n"
          ]
        },
        {
          "output_type": "stream",
          "name": "stdout",
          "text": [
            "Training Loss: 0.0967 Acc: 0.9656\n"
          ]
        },
        {
          "output_type": "stream",
          "name": "stderr",
          "text": [
            "Validation: 100%|█████████████████████████████████████████████████████████████████| 12/12 [00:00<00:00, 15.49it/s]\n"
          ]
        },
        {
          "output_type": "stream",
          "name": "stdout",
          "text": [
            "Validation Loss: 0.1715 Acc: 0.9255\n",
            "Epoch 6 / 20\n"
          ]
        },
        {
          "output_type": "stream",
          "name": "stderr",
          "text": [
            "Training: 100%|███████████████████████████████████████████████████████████████████| 58/58 [00:08<00:00,  6.69it/s]\n"
          ]
        },
        {
          "output_type": "stream",
          "name": "stdout",
          "text": [
            "Training Loss: 0.0865 Acc: 0.9672\n"
          ]
        },
        {
          "output_type": "stream",
          "name": "stderr",
          "text": [
            "Validation: 100%|█████████████████████████████████████████████████████████████████| 12/12 [00:00<00:00, 15.12it/s]\n"
          ]
        },
        {
          "output_type": "stream",
          "name": "stdout",
          "text": [
            "Validation Loss: 0.1317 Acc: 0.9441\n",
            "Epoch 7 / 20\n"
          ]
        },
        {
          "output_type": "stream",
          "name": "stderr",
          "text": [
            "Training: 100%|███████████████████████████████████████████████████████████████████| 58/58 [00:08<00:00,  6.73it/s]\n"
          ]
        },
        {
          "output_type": "stream",
          "name": "stdout",
          "text": [
            "Training Loss: 0.0683 Acc: 0.9738\n"
          ]
        },
        {
          "output_type": "stream",
          "name": "stderr",
          "text": [
            "Validation: 100%|█████████████████████████████████████████████████████████████████| 12/12 [00:00<00:00, 15.73it/s]\n"
          ]
        },
        {
          "output_type": "stream",
          "name": "stdout",
          "text": [
            "Validation Loss: 0.1635 Acc: 0.9388\n",
            "Epoch 8 / 20\n"
          ]
        },
        {
          "output_type": "stream",
          "name": "stderr",
          "text": [
            "Training: 100%|███████████████████████████████████████████████████████████████████| 58/58 [00:08<00:00,  6.68it/s]\n"
          ]
        },
        {
          "output_type": "stream",
          "name": "stdout",
          "text": [
            "Training Loss: 0.0584 Acc: 0.9814\n"
          ]
        },
        {
          "output_type": "stream",
          "name": "stderr",
          "text": [
            "Validation: 100%|█████████████████████████████████████████████████████████████████| 12/12 [00:00<00:00, 15.73it/s]\n"
          ]
        },
        {
          "output_type": "stream",
          "name": "stdout",
          "text": [
            "Validation Loss: 0.1415 Acc: 0.9468\n",
            "Epoch 9 / 20\n"
          ]
        },
        {
          "output_type": "stream",
          "name": "stderr",
          "text": [
            "Training: 100%|███████████████████████████████████████████████████████████████████| 58/58 [00:08<00:00,  6.73it/s]\n"
          ]
        },
        {
          "output_type": "stream",
          "name": "stdout",
          "text": [
            "Training Loss: 0.0536 Acc: 0.9842\n"
          ]
        },
        {
          "output_type": "stream",
          "name": "stderr",
          "text": [
            "Validation: 100%|█████████████████████████████████████████████████████████████████| 12/12 [00:00<00:00, 15.63it/s]\n"
          ]
        },
        {
          "output_type": "stream",
          "name": "stdout",
          "text": [
            "Validation Loss: 0.1523 Acc: 0.9574\n",
            "Epoch 10 / 20\n"
          ]
        },
        {
          "output_type": "stream",
          "name": "stderr",
          "text": [
            "Training: 100%|███████████████████████████████████████████████████████████████████| 58/58 [00:08<00:00,  6.65it/s]\n"
          ]
        },
        {
          "output_type": "stream",
          "name": "stdout",
          "text": [
            "Training Loss: 0.0483 Acc: 0.9842\n"
          ]
        },
        {
          "output_type": "stream",
          "name": "stderr",
          "text": [
            "Validation: 100%|█████████████████████████████████████████████████████████████████| 12/12 [00:00<00:00, 15.90it/s]\n"
          ]
        },
        {
          "output_type": "stream",
          "name": "stdout",
          "text": [
            "Validation Loss: 0.1516 Acc: 0.9362\n",
            "Epoch 11 / 20\n"
          ]
        },
        {
          "output_type": "stream",
          "name": "stderr",
          "text": [
            "Training: 100%|███████████████████████████████████████████████████████████████████| 58/58 [00:08<00:00,  6.71it/s]\n"
          ]
        },
        {
          "output_type": "stream",
          "name": "stdout",
          "text": [
            "Training Loss: 0.0391 Acc: 0.9896\n"
          ]
        },
        {
          "output_type": "stream",
          "name": "stderr",
          "text": [
            "Validation: 100%|█████████████████████████████████████████████████████████████████| 12/12 [00:00<00:00, 15.85it/s]\n"
          ]
        },
        {
          "output_type": "stream",
          "name": "stdout",
          "text": [
            "Validation Loss: 0.1516 Acc: 0.9415\n",
            "Epoch 12 / 20\n"
          ]
        },
        {
          "output_type": "stream",
          "name": "stderr",
          "text": [
            "Training: 100%|███████████████████████████████████████████████████████████████████| 58/58 [00:08<00:00,  6.66it/s]\n"
          ]
        },
        {
          "output_type": "stream",
          "name": "stdout",
          "text": [
            "Training Loss: 0.0486 Acc: 0.9853\n"
          ]
        },
        {
          "output_type": "stream",
          "name": "stderr",
          "text": [
            "Validation: 100%|█████████████████████████████████████████████████████████████████| 12/12 [00:00<00:00, 15.46it/s]\n"
          ]
        },
        {
          "output_type": "stream",
          "name": "stdout",
          "text": [
            "Validation Loss: 0.1748 Acc: 0.9388\n",
            "Epoch 13 / 20\n"
          ]
        },
        {
          "output_type": "stream",
          "name": "stderr",
          "text": [
            "Training: 100%|███████████████████████████████████████████████████████████████████| 58/58 [00:08<00:00,  6.66it/s]\n"
          ]
        },
        {
          "output_type": "stream",
          "name": "stdout",
          "text": [
            "Training Loss: 0.0399 Acc: 0.9885\n"
          ]
        },
        {
          "output_type": "stream",
          "name": "stderr",
          "text": [
            "Validation: 100%|█████████████████████████████████████████████████████████████████| 12/12 [00:00<00:00, 15.55it/s]\n"
          ]
        },
        {
          "output_type": "stream",
          "name": "stdout",
          "text": [
            "Validation Loss: 0.1609 Acc: 0.9441\n",
            "Epoch 14 / 20\n"
          ]
        },
        {
          "output_type": "stream",
          "name": "stderr",
          "text": [
            "Training: 100%|███████████████████████████████████████████████████████████████████| 58/58 [00:08<00:00,  6.62it/s]\n"
          ]
        },
        {
          "output_type": "stream",
          "name": "stdout",
          "text": [
            "Training Loss: 0.0357 Acc: 0.9891\n"
          ]
        },
        {
          "output_type": "stream",
          "name": "stderr",
          "text": [
            "Validation: 100%|█████████████████████████████████████████████████████████████████| 12/12 [00:00<00:00, 15.96it/s]\n"
          ]
        },
        {
          "output_type": "stream",
          "name": "stdout",
          "text": [
            "Validation Loss: 0.1369 Acc: 0.9601\n",
            "Epoch 15 / 20\n"
          ]
        },
        {
          "output_type": "stream",
          "name": "stderr",
          "text": [
            "Training: 100%|███████████████████████████████████████████████████████████████████| 58/58 [00:08<00:00,  6.65it/s]\n"
          ]
        },
        {
          "output_type": "stream",
          "name": "stdout",
          "text": [
            "Training Loss: 0.0236 Acc: 0.9924\n"
          ]
        },
        {
          "output_type": "stream",
          "name": "stderr",
          "text": [
            "Validation: 100%|█████████████████████████████████████████████████████████████████| 12/12 [00:00<00:00, 15.70it/s]\n"
          ]
        },
        {
          "output_type": "stream",
          "name": "stdout",
          "text": [
            "Validation Loss: 0.1577 Acc: 0.9388\n",
            "Epoch 16 / 20\n"
          ]
        },
        {
          "output_type": "stream",
          "name": "stderr",
          "text": [
            "Training: 100%|███████████████████████████████████████████████████████████████████| 58/58 [00:08<00:00,  6.67it/s]\n"
          ]
        },
        {
          "output_type": "stream",
          "name": "stdout",
          "text": [
            "Training Loss: 0.0179 Acc: 0.9945\n"
          ]
        },
        {
          "output_type": "stream",
          "name": "stderr",
          "text": [
            "Validation: 100%|█████████████████████████████████████████████████████████████████| 12/12 [00:00<00:00, 16.00it/s]\n"
          ]
        },
        {
          "output_type": "stream",
          "name": "stdout",
          "text": [
            "Validation Loss: 0.1231 Acc: 0.9654\n",
            "Epoch 17 / 20\n"
          ]
        },
        {
          "output_type": "stream",
          "name": "stderr",
          "text": [
            "Training: 100%|███████████████████████████████████████████████████████████████████| 58/58 [00:08<00:00,  6.64it/s]\n"
          ]
        },
        {
          "output_type": "stream",
          "name": "stdout",
          "text": [
            "Training Loss: 0.0245 Acc: 0.9918\n"
          ]
        },
        {
          "output_type": "stream",
          "name": "stderr",
          "text": [
            "Validation: 100%|█████████████████████████████████████████████████████████████████| 12/12 [00:00<00:00, 15.86it/s]\n"
          ]
        },
        {
          "output_type": "stream",
          "name": "stdout",
          "text": [
            "Validation Loss: 0.1178 Acc: 0.9681\n",
            "Epoch 18 / 20\n"
          ]
        },
        {
          "output_type": "stream",
          "name": "stderr",
          "text": [
            "Training: 100%|███████████████████████████████████████████████████████████████████| 58/58 [00:08<00:00,  6.66it/s]\n"
          ]
        },
        {
          "output_type": "stream",
          "name": "stdout",
          "text": [
            "Training Loss: 0.0270 Acc: 0.9913\n"
          ]
        },
        {
          "output_type": "stream",
          "name": "stderr",
          "text": [
            "Validation: 100%|█████████████████████████████████████████████████████████████████| 12/12 [00:00<00:00, 15.55it/s]\n"
          ]
        },
        {
          "output_type": "stream",
          "name": "stdout",
          "text": [
            "Validation Loss: 0.1353 Acc: 0.9548\n",
            "Epoch 19 / 20\n"
          ]
        },
        {
          "output_type": "stream",
          "name": "stderr",
          "text": [
            "Training: 100%|███████████████████████████████████████████████████████████████████| 58/58 [00:08<00:00,  6.61it/s]\n"
          ]
        },
        {
          "output_type": "stream",
          "name": "stdout",
          "text": [
            "Training Loss: 0.0294 Acc: 0.9907\n"
          ]
        },
        {
          "output_type": "stream",
          "name": "stderr",
          "text": [
            "Validation: 100%|█████████████████████████████████████████████████████████████████| 12/12 [00:00<00:00, 15.67it/s]\n"
          ]
        },
        {
          "output_type": "stream",
          "name": "stdout",
          "text": [
            "Validation Loss: 0.1832 Acc: 0.9309\n",
            "Epoch 20 / 20\n"
          ]
        },
        {
          "output_type": "stream",
          "name": "stderr",
          "text": [
            "Training: 100%|███████████████████████████████████████████████████████████████████| 58/58 [00:08<00:00,  6.60it/s]\n"
          ]
        },
        {
          "output_type": "stream",
          "name": "stdout",
          "text": [
            "Training Loss: 0.0176 Acc: 0.9934\n"
          ]
        },
        {
          "output_type": "stream",
          "name": "stderr",
          "text": [
            "Validation: 100%|█████████████████████████████████████████████████████████████████| 12/12 [00:00<00:00, 15.55it/s]"
          ]
        },
        {
          "output_type": "stream",
          "name": "stdout",
          "text": [
            "Validation Loss: 0.1220 Acc: 0.9707\n"
          ]
        },
        {
          "output_type": "stream",
          "name": "stderr",
          "text": [
            "\n"
          ]
        }
      ]
    },
    {
      "cell_type": "code",
      "source": [
        "# Save model\n",
        "torch.save(model.state_dict(), './models/densenet121.pth')"
      ],
      "metadata": {
        "id": "lIaq5Gg5ccnz"
      },
      "execution_count": null,
      "outputs": []
    },
    {
      "cell_type": "code",
      "source": [
        "test(model, test_loader)"
      ],
      "metadata": {
        "colab": {
          "base_uri": "https://localhost:8080/"
        },
        "id": "NI1junAOccnz",
        "outputId": "64fbfe7a-6426-4684-dda0-b4dd6aa36d7e"
      },
      "execution_count": null,
      "outputs": [
        {
          "output_type": "stream",
          "name": "stderr",
          "text": [
            "Testing: 100%|████████████████████████████████████████████████████████████████████| 15/15 [00:00<00:00, 22.83it/s]\n"
          ]
        },
        {
          "output_type": "execute_result",
          "data": {
            "text/plain": [
              "array([[217.,  13.],\n",
              "       [ 12., 218.]])"
            ]
          },
          "metadata": {},
          "execution_count": 117
        }
      ]
    },
    {
      "cell_type": "code",
      "source": [
        "plot_history(*history)"
      ],
      "metadata": {
        "colab": {
          "base_uri": "https://localhost:8080/",
          "height": 388
        },
        "id": "DtwfyxEsccnz",
        "outputId": "9001a255-5542-4d76-cab0-d0cf7b743326"
      },
      "execution_count": null,
      "outputs": [
        {
          "output_type": "display_data",
          "data": {
            "text/plain": [
              "<Figure size 1200x400 with 2 Axes>"
            ],
            "image/png": "[encoded data removed]"
          },
          "metadata": {}
        }
      ]
    },
    {
      "cell_type": "markdown",
      "source": [
        "# Section 3: Multi-class classification"
      ],
      "metadata": {
        "id": "lJg3hJbnckY9"
      }
    },
    {
      "cell_type": "markdown",
      "source": [
        "## Create multi-class dataset"
      ],
      "metadata": {
        "id": "ThkltAfOcHcm"
      }
    },
    {
      "cell_type": "code",
      "source": [
        "class MultiImageData(Dataset):\n",
        "    def __init__(self, X, y, transform=None):\n",
        "        self.X = X\n",
        "        self.y = y\n",
        "        self.transform = transform\n",
        "\n",
        "    def __len__(self):\n",
        "        return len(self.X)\n",
        "\n",
        "    def __getitem__(self, idx):\n",
        "        image = self.X[idx]\n",
        "        label = self.y[idx]\n",
        "\n",
        "        if self.transform:\n",
        "            image = self.transform(image)\n",
        "\n",
        "        return image, label"
      ],
      "metadata": {
        "id": "PpoSrfnCcJIh"
      },
      "execution_count": null,
      "outputs": []
    },
    {
      "cell_type": "code",
      "source": [
        "ym_train.shape"
      ],
      "metadata": {
        "colab": {
          "base_uri": "https://localhost:8080/"
        },
        "id": "1kcfSJj1EBuG",
        "outputId": "f02c1c29-e51c-4a56-abda-826323aec443"
      },
      "execution_count": null,
      "outputs": [
        {
          "output_type": "execute_result",
          "data": {
            "text/plain": [
              "(1840, 3)"
            ]
          },
          "metadata": {},
          "execution_count": 54
        }
      ]
    },
    {
      "cell_type": "code",
      "source": [
        "multi_dataset = MultiImageData(X_train, ym_train, transform=transform)"
      ],
      "metadata": {
        "id": "x541oEU6n1kS"
      },
      "execution_count": null,
      "outputs": []
    },
    {
      "cell_type": "code",
      "source": [
        "if with_augment:\n",
        "    transform_augmented = transforms.Compose([\n",
        "        GaussianNoise(std=0.05),  # Add Gaussian noise\n",
        "        transforms.ToTensor(),\n",
        "        transforms.RandomRotation(degrees=15),\n",
        "        transforms.RandomHorizontalFlip(),\n",
        "        transforms.RandomResizedCrop((IMG_HEIGHT, IMG_WIDTH)),\n",
        "        transforms.Normalize([0.485, 0.456, 0.406], [0.229, 0.224, 0.225])\n",
        "    ])\n",
        "    picked = np.random.choice(X_train.shape[0], int(X_train.shape[0] * 0.2), replace=False)\n",
        "    multi_dataset_aug = ImageData(X_train[picked], ym_train[picked], transform=transform_augmented)\n",
        "    multi_dataset = ConcatDataset([multi_dataset, multi_dataset_aug])"
      ],
      "metadata": {
        "id": "N4WbLAE7n0u1"
      },
      "execution_count": null,
      "outputs": []
    },
    {
      "cell_type": "code",
      "source": [
        "# Define the split sizes\n",
        "total_images = len(multi_dataset)\n",
        "train_size = int(TRAIN_VALID_SPLIT * total_images)\n",
        "validation_size = total_images - train_size"
      ],
      "metadata": {
        "id": "uEObtJfTpRLx"
      },
      "execution_count": null,
      "outputs": []
    },
    {
      "cell_type": "code",
      "source": [
        "train_dataset, val_dataset = random_split(multi_dataset, [train_size, validation_size])\n",
        "\n",
        "train_multi_loader = DataLoader(train_dataset, batch_size=32, shuffle=True)\n",
        "validation_multi_loader = DataLoader(val_dataset, batch_size=32, shuffle=False)"
      ],
      "metadata": {
        "id": "VsBjKtmUmIA6"
      },
      "execution_count": null,
      "outputs": []
    },
    {
      "cell_type": "code",
      "source": [
        "multi_test_dataset = MultiImageData(X_test, ym_test, transform=transform)\n",
        "test_multi_loader = DataLoader(multi_test_dataset, batch_size=32, shuffle=False)"
      ],
      "metadata": {
        "id": "Mhb2an7S1NRr"
      },
      "execution_count": null,
      "outputs": []
    },
    {
      "cell_type": "markdown",
      "source": [
        "## Using ResNet50"
      ],
      "metadata": {
        "id": "GfS1mPHrlsQ_"
      }
    },
    {
      "cell_type": "code",
      "source": [
        "def create_resnet50_multi_classifier(**kwargs):\n",
        "    model = models.resnet50(**kwargs)\n",
        "    model.fc = torch.nn.Sequential(\n",
        "        torch.nn.Linear(model.fc.in_features, 3),  # Final linear layer with num_outputs\n",
        "        torch.nn.Sigmoid()  # Apply sigmoid activation\n",
        "    )\n",
        "    model = model.to(device)\n",
        "    return model"
      ],
      "metadata": {
        "id": "Y6NUkEEElt5i"
      },
      "execution_count": null,
      "outputs": []
    },
    {
      "cell_type": "code",
      "source": [
        "def create_mobilenet_multi_classifier(**kwargs):\n",
        "    class ModifiedMobileNetV2(nn.Module):\n",
        "        def __init__(self, mobilenet_v2):\n",
        "            super(ModifiedMobileNetV2, self).__init__()\n",
        "            self.mobilenet_v2 = mobilenet_v2\n",
        "\n",
        "        def forward(self, x):\n",
        "            x = self.mobilenet_v2(x)\n",
        "            x = torch.sigmoid(x)  # Apply sigmoid to get outputs in range [0, 1]\n",
        "            return x\n",
        "    model0 = models.mobilenet_v2(**kwargs)\n",
        "    model0.classifier = nn.Sequential(\n",
        "        nn.Dropout(0.2),\n",
        "        nn.Linear(model0.classifier[1].in_features, 3)  # Change to 3 outputs\n",
        "    )\n",
        "    model = ModifiedMobileNetV2(model0)\n",
        "    model = model.to(device)\n",
        "    return model"
      ],
      "metadata": {
        "id": "BxcoQMWXzsJd"
      },
      "execution_count": null,
      "outputs": []
    },
    {
      "cell_type": "code",
      "source": [
        "# Model, criterion and optimizer\n",
        "model = create_resnet50_multi_classifier(weights=models.ResNet50_Weights.IMAGENET1K_V2)\n",
        "# model = create_mobilenet_multi_classifier(weights=models.MobileNet_V2_Weights.DEFAULT, width_mult=1.0)\n",
        "# criterion = torch.nn.CrossEntropyLoss()\n",
        "criterion = torch.nn.BCELoss()\n",
        "optimizer = torch.optim.Adam(model.parameters(), lr=0.001)"
      ],
      "metadata": {
        "id": "jE0brdbFUVnW"
      },
      "execution_count": null,
      "outputs": []
    },
    {
      "cell_type": "code",
      "source": [
        "model, history = train(model, criterion, optimizer, epochs=MULTI_EPOCH, train_loader=train_multi_loader, validation_loader=validation_multi_loader, model_type='multi')"
      ],
      "metadata": {
        "colab": {
          "base_uri": "https://localhost:8080/"
        },
        "id": "6m1HTj15UfAg",
        "outputId": "29ef48fd-0c65-446a-e640-6f275fe32fd2"
      },
      "execution_count": null,
      "outputs": [
        {
          "output_type": "stream",
          "name": "stdout",
          "text": [
            "Epoch 1 / 25\n"
          ]
        },
        {
          "output_type": "stream",
          "name": "stderr",
          "text": [
            "Training: 100%|███████████████████████████████████████████████████████████████████| 58/58 [00:07<00:00,  7.79it/s]\n"
          ]
        },
        {
          "output_type": "stream",
          "name": "stdout",
          "text": [
            "Training Loss: 0.3962 Acc: 0.8191\n"
          ]
        },
        {
          "output_type": "stream",
          "name": "stderr",
          "text": [
            "Validation: 100%|█████████████████████████████████████████████████████████████████| 12/12 [00:00<00:00, 17.19it/s]\n"
          ]
        },
        {
          "output_type": "stream",
          "name": "stdout",
          "text": [
            "Validation Loss: 0.4275 Acc: 0.8209\n",
            "Epoch 2 / 25\n"
          ]
        },
        {
          "output_type": "stream",
          "name": "stderr",
          "text": [
            "Training: 100%|███████████████████████████████████████████████████████████████████| 58/58 [00:07<00:00,  7.95it/s]\n"
          ]
        },
        {
          "output_type": "stream",
          "name": "stdout",
          "text": [
            "Training Loss: 0.3179 Acc: 0.8501\n"
          ]
        },
        {
          "output_type": "stream",
          "name": "stderr",
          "text": [
            "Validation: 100%|█████████████████████████████████████████████████████████████████| 12/12 [00:00<00:00, 17.57it/s]\n"
          ]
        },
        {
          "output_type": "stream",
          "name": "stdout",
          "text": [
            "Validation Loss: 0.4561 Acc: 0.8289\n",
            "Epoch 3 / 25\n"
          ]
        },
        {
          "output_type": "stream",
          "name": "stderr",
          "text": [
            "Training: 100%|███████████████████████████████████████████████████████████████████| 58/58 [00:07<00:00,  7.56it/s]\n"
          ]
        },
        {
          "output_type": "stream",
          "name": "stdout",
          "text": [
            "Training Loss: 0.2677 Acc: 0.8781\n"
          ]
        },
        {
          "output_type": "stream",
          "name": "stderr",
          "text": [
            "Validation: 100%|█████████████████████████████████████████████████████████████████| 12/12 [00:00<00:00, 16.35it/s]\n"
          ]
        },
        {
          "output_type": "stream",
          "name": "stdout",
          "text": [
            "Validation Loss: 0.2835 Acc: 0.8723\n",
            "Epoch 4 / 25\n"
          ]
        },
        {
          "output_type": "stream",
          "name": "stderr",
          "text": [
            "Training: 100%|███████████████████████████████████████████████████████████████████| 58/58 [00:07<00:00,  7.40it/s]\n"
          ]
        },
        {
          "output_type": "stream",
          "name": "stdout",
          "text": [
            "Training Loss: 0.2298 Acc: 0.9054\n"
          ]
        },
        {
          "output_type": "stream",
          "name": "stderr",
          "text": [
            "Validation: 100%|█████████████████████████████████████████████████████████████████| 12/12 [00:00<00:00, 16.82it/s]\n"
          ]
        },
        {
          "output_type": "stream",
          "name": "stdout",
          "text": [
            "Validation Loss: 0.6899 Acc: 0.8413\n",
            "Epoch 5 / 25\n"
          ]
        },
        {
          "output_type": "stream",
          "name": "stderr",
          "text": [
            "Training: 100%|███████████████████████████████████████████████████████████████████| 58/58 [00:07<00:00,  7.47it/s]\n"
          ]
        },
        {
          "output_type": "stream",
          "name": "stdout",
          "text": [
            "Training Loss: 0.1951 Acc: 0.9168\n"
          ]
        },
        {
          "output_type": "stream",
          "name": "stderr",
          "text": [
            "Validation: 100%|█████████████████████████████████████████████████████████████████| 12/12 [00:00<00:00, 16.43it/s]\n"
          ]
        },
        {
          "output_type": "stream",
          "name": "stdout",
          "text": [
            "Validation Loss: 0.2909 Acc: 0.8874\n",
            "Epoch 6 / 25\n"
          ]
        },
        {
          "output_type": "stream",
          "name": "stderr",
          "text": [
            "Training: 100%|███████████████████████████████████████████████████████████████████| 58/58 [00:07<00:00,  7.48it/s]\n"
          ]
        },
        {
          "output_type": "stream",
          "name": "stdout",
          "text": [
            "Training Loss: 0.1654 Acc: 0.9341\n"
          ]
        },
        {
          "output_type": "stream",
          "name": "stderr",
          "text": [
            "Validation: 100%|█████████████████████████████████████████████████████████████████| 12/12 [00:00<00:00, 16.79it/s]\n"
          ]
        },
        {
          "output_type": "stream",
          "name": "stdout",
          "text": [
            "Validation Loss: 0.3687 Acc: 0.8573\n",
            "Epoch 7 / 25\n"
          ]
        },
        {
          "output_type": "stream",
          "name": "stderr",
          "text": [
            "Training: 100%|███████████████████████████████████████████████████████████████████| 58/58 [00:07<00:00,  7.40it/s]\n"
          ]
        },
        {
          "output_type": "stream",
          "name": "stdout",
          "text": [
            "Training Loss: 0.1272 Acc: 0.9483\n"
          ]
        },
        {
          "output_type": "stream",
          "name": "stderr",
          "text": [
            "Validation: 100%|█████████████████████████████████████████████████████████████████| 12/12 [00:00<00:00, 16.16it/s]\n"
          ]
        },
        {
          "output_type": "stream",
          "name": "stdout",
          "text": [
            "Validation Loss: 0.3349 Acc: 0.8608\n",
            "Epoch 8 / 25\n"
          ]
        },
        {
          "output_type": "stream",
          "name": "stderr",
          "text": [
            "Training: 100%|███████████████████████████████████████████████████████████████████| 58/58 [00:07<00:00,  7.50it/s]\n"
          ]
        },
        {
          "output_type": "stream",
          "name": "stdout",
          "text": [
            "Training Loss: 0.1201 Acc: 0.9531\n"
          ]
        },
        {
          "output_type": "stream",
          "name": "stderr",
          "text": [
            "Validation: 100%|█████████████████████████████████████████████████████████████████| 12/12 [00:00<00:00, 16.12it/s]\n"
          ]
        },
        {
          "output_type": "stream",
          "name": "stdout",
          "text": [
            "Validation Loss: 0.3540 Acc: 0.8741\n",
            "Epoch 9 / 25\n"
          ]
        },
        {
          "output_type": "stream",
          "name": "stderr",
          "text": [
            "Training: 100%|███████████████████████████████████████████████████████████████████| 58/58 [00:07<00:00,  7.43it/s]\n"
          ]
        },
        {
          "output_type": "stream",
          "name": "stdout",
          "text": [
            "Training Loss: 0.1171 Acc: 0.9518\n"
          ]
        },
        {
          "output_type": "stream",
          "name": "stderr",
          "text": [
            "Validation: 100%|█████████████████████████████████████████████████████████████████| 12/12 [00:00<00:00, 16.48it/s]\n"
          ]
        },
        {
          "output_type": "stream",
          "name": "stdout",
          "text": [
            "Validation Loss: 0.5005 Acc: 0.8369\n",
            "Epoch 10 / 25\n"
          ]
        },
        {
          "output_type": "stream",
          "name": "stderr",
          "text": [
            "Training: 100%|███████████████████████████████████████████████████████████████████| 58/58 [00:07<00:00,  7.45it/s]\n"
          ]
        },
        {
          "output_type": "stream",
          "name": "stdout",
          "text": [
            "Training Loss: 0.1095 Acc: 0.9556\n"
          ]
        },
        {
          "output_type": "stream",
          "name": "stderr",
          "text": [
            "Validation: 100%|█████████████████████████████████████████████████████████████████| 12/12 [00:00<00:00, 17.21it/s]\n"
          ]
        },
        {
          "output_type": "stream",
          "name": "stdout",
          "text": [
            "Validation Loss: 0.3225 Acc: 0.8830\n",
            "Epoch 11 / 25\n"
          ]
        },
        {
          "output_type": "stream",
          "name": "stderr",
          "text": [
            "Training: 100%|███████████████████████████████████████████████████████████████████| 58/58 [00:07<00:00,  7.51it/s]\n"
          ]
        },
        {
          "output_type": "stream",
          "name": "stdout",
          "text": [
            "Training Loss: 0.1349 Acc: 0.9487\n"
          ]
        },
        {
          "output_type": "stream",
          "name": "stderr",
          "text": [
            "Validation: 100%|█████████████████████████████████████████████████████████████████| 12/12 [00:00<00:00, 16.60it/s]\n"
          ]
        },
        {
          "output_type": "stream",
          "name": "stdout",
          "text": [
            "Validation Loss: 0.4847 Acc: 0.8520\n",
            "Epoch 12 / 25\n"
          ]
        },
        {
          "output_type": "stream",
          "name": "stderr",
          "text": [
            "Training: 100%|███████████████████████████████████████████████████████████████████| 58/58 [00:07<00:00,  7.37it/s]\n"
          ]
        },
        {
          "output_type": "stream",
          "name": "stdout",
          "text": [
            "Training Loss: 0.1272 Acc: 0.9487\n"
          ]
        },
        {
          "output_type": "stream",
          "name": "stderr",
          "text": [
            "Validation: 100%|█████████████████████████████████████████████████████████████████| 12/12 [00:00<00:00, 16.42it/s]\n"
          ]
        },
        {
          "output_type": "stream",
          "name": "stdout",
          "text": [
            "Validation Loss: 0.4193 Acc: 0.8670\n",
            "Epoch 13 / 25\n"
          ]
        },
        {
          "output_type": "stream",
          "name": "stderr",
          "text": [
            "Training: 100%|███████████████████████████████████████████████████████████████████| 58/58 [00:07<00:00,  7.51it/s]\n"
          ]
        },
        {
          "output_type": "stream",
          "name": "stdout",
          "text": [
            "Training Loss: 0.1048 Acc: 0.9583\n"
          ]
        },
        {
          "output_type": "stream",
          "name": "stderr",
          "text": [
            "Validation: 100%|█████████████████████████████████████████████████████████████████| 12/12 [00:00<00:00, 16.69it/s]\n"
          ]
        },
        {
          "output_type": "stream",
          "name": "stdout",
          "text": [
            "Validation Loss: 0.4180 Acc: 0.8732\n",
            "Epoch 14 / 25\n"
          ]
        },
        {
          "output_type": "stream",
          "name": "stderr",
          "text": [
            "Training: 100%|███████████████████████████████████████████████████████████████████| 58/58 [00:07<00:00,  7.46it/s]\n"
          ]
        },
        {
          "output_type": "stream",
          "name": "stdout",
          "text": [
            "Training Loss: 0.1009 Acc: 0.9627\n"
          ]
        },
        {
          "output_type": "stream",
          "name": "stderr",
          "text": [
            "Validation: 100%|█████████████████████████████████████████████████████████████████| 12/12 [00:00<00:00, 15.91it/s]\n"
          ]
        },
        {
          "output_type": "stream",
          "name": "stdout",
          "text": [
            "Validation Loss: 0.2811 Acc: 0.8883\n",
            "Epoch 15 / 25\n"
          ]
        },
        {
          "output_type": "stream",
          "name": "stderr",
          "text": [
            "Training: 100%|███████████████████████████████████████████████████████████████████| 58/58 [00:07<00:00,  7.55it/s]\n"
          ]
        },
        {
          "output_type": "stream",
          "name": "stdout",
          "text": [
            "Training Loss: 0.0658 Acc: 0.9742\n"
          ]
        },
        {
          "output_type": "stream",
          "name": "stderr",
          "text": [
            "Validation: 100%|█████████████████████████████████████████████████████████████████| 12/12 [00:00<00:00, 16.00it/s]\n"
          ]
        },
        {
          "output_type": "stream",
          "name": "stdout",
          "text": [
            "Validation Loss: 0.3503 Acc: 0.8848\n",
            "Epoch 16 / 25\n"
          ]
        },
        {
          "output_type": "stream",
          "name": "stderr",
          "text": [
            "Training: 100%|███████████████████████████████████████████████████████████████████| 58/58 [00:07<00:00,  7.48it/s]\n"
          ]
        },
        {
          "output_type": "stream",
          "name": "stdout",
          "text": [
            "Training Loss: 0.0606 Acc: 0.9783\n"
          ]
        },
        {
          "output_type": "stream",
          "name": "stderr",
          "text": [
            "Validation: 100%|█████████████████████████████████████████████████████████████████| 12/12 [00:00<00:00, 15.90it/s]\n"
          ]
        },
        {
          "output_type": "stream",
          "name": "stdout",
          "text": [
            "Validation Loss: 0.3444 Acc: 0.8918\n",
            "Epoch 17 / 25\n"
          ]
        },
        {
          "output_type": "stream",
          "name": "stderr",
          "text": [
            "Training: 100%|███████████████████████████████████████████████████████████████████| 58/58 [00:07<00:00,  7.30it/s]\n"
          ]
        },
        {
          "output_type": "stream",
          "name": "stdout",
          "text": [
            "Training Loss: 0.0540 Acc: 0.9813\n"
          ]
        },
        {
          "output_type": "stream",
          "name": "stderr",
          "text": [
            "Validation: 100%|█████████████████████████████████████████████████████████████████| 12/12 [00:00<00:00, 16.14it/s]\n"
          ]
        },
        {
          "output_type": "stream",
          "name": "stdout",
          "text": [
            "Validation Loss: 0.3417 Acc: 0.8883\n",
            "Epoch 18 / 25\n"
          ]
        },
        {
          "output_type": "stream",
          "name": "stderr",
          "text": [
            "Training: 100%|███████████████████████████████████████████████████████████████████| 58/58 [00:07<00:00,  7.25it/s]\n"
          ]
        },
        {
          "output_type": "stream",
          "name": "stdout",
          "text": [
            "Training Loss: 0.0573 Acc: 0.9782\n"
          ]
        },
        {
          "output_type": "stream",
          "name": "stderr",
          "text": [
            "Validation: 100%|█████████████████████████████████████████████████████████████████| 12/12 [00:00<00:00, 16.78it/s]\n"
          ]
        },
        {
          "output_type": "stream",
          "name": "stdout",
          "text": [
            "Validation Loss: 0.4826 Acc: 0.8803\n",
            "Epoch 19 / 25\n"
          ]
        },
        {
          "output_type": "stream",
          "name": "stderr",
          "text": [
            "Training: 100%|███████████████████████████████████████████████████████████████████| 58/58 [00:07<00:00,  7.56it/s]\n"
          ]
        },
        {
          "output_type": "stream",
          "name": "stdout",
          "text": [
            "Training Loss: 0.0633 Acc: 0.9720\n"
          ]
        },
        {
          "output_type": "stream",
          "name": "stderr",
          "text": [
            "Validation: 100%|█████████████████████████████████████████████████████████████████| 12/12 [00:00<00:00, 16.94it/s]\n"
          ]
        },
        {
          "output_type": "stream",
          "name": "stdout",
          "text": [
            "Validation Loss: 0.3352 Acc: 0.8998\n",
            "Epoch 20 / 25\n"
          ]
        },
        {
          "output_type": "stream",
          "name": "stderr",
          "text": [
            "Training: 100%|███████████████████████████████████████████████████████████████████| 58/58 [00:07<00:00,  7.37it/s]\n"
          ]
        },
        {
          "output_type": "stream",
          "name": "stdout",
          "text": [
            "Training Loss: 0.0655 Acc: 0.9733\n"
          ]
        },
        {
          "output_type": "stream",
          "name": "stderr",
          "text": [
            "Validation: 100%|█████████████████████████████████████████████████████████████████| 12/12 [00:00<00:00, 16.67it/s]\n"
          ]
        },
        {
          "output_type": "stream",
          "name": "stdout",
          "text": [
            "Validation Loss: 0.3455 Acc: 0.8803\n",
            "Epoch 21 / 25\n"
          ]
        },
        {
          "output_type": "stream",
          "name": "stderr",
          "text": [
            "Training: 100%|███████████████████████████████████████████████████████████████████| 58/58 [00:07<00:00,  7.57it/s]\n"
          ]
        },
        {
          "output_type": "stream",
          "name": "stdout",
          "text": [
            "Training Loss: 0.0602 Acc: 0.9769\n"
          ]
        },
        {
          "output_type": "stream",
          "name": "stderr",
          "text": [
            "Validation: 100%|█████████████████████████████████████████████████████████████████| 12/12 [00:00<00:00, 16.81it/s]\n"
          ]
        },
        {
          "output_type": "stream",
          "name": "stdout",
          "text": [
            "Validation Loss: 0.3387 Acc: 0.8927\n",
            "Epoch 22 / 25\n"
          ]
        },
        {
          "output_type": "stream",
          "name": "stderr",
          "text": [
            "Training: 100%|███████████████████████████████████████████████████████████████████| 58/58 [00:07<00:00,  7.43it/s]\n"
          ]
        },
        {
          "output_type": "stream",
          "name": "stdout",
          "text": [
            "Training Loss: 0.0591 Acc: 0.9774\n"
          ]
        },
        {
          "output_type": "stream",
          "name": "stderr",
          "text": [
            "Validation: 100%|█████████████████████████████████████████████████████████████████| 12/12 [00:00<00:00, 15.67it/s]\n"
          ]
        },
        {
          "output_type": "stream",
          "name": "stdout",
          "text": [
            "Validation Loss: 0.3302 Acc: 0.8936\n",
            "Epoch 23 / 25\n"
          ]
        },
        {
          "output_type": "stream",
          "name": "stderr",
          "text": [
            "Training: 100%|███████████████████████████████████████████████████████████████████| 58/58 [00:07<00:00,  7.61it/s]\n"
          ]
        },
        {
          "output_type": "stream",
          "name": "stdout",
          "text": [
            "Training Loss: 0.0568 Acc: 0.9763\n"
          ]
        },
        {
          "output_type": "stream",
          "name": "stderr",
          "text": [
            "Validation: 100%|█████████████████████████████████████████████████████████████████| 12/12 [00:00<00:00, 15.72it/s]\n"
          ]
        },
        {
          "output_type": "stream",
          "name": "stdout",
          "text": [
            "Validation Loss: 0.3852 Acc: 0.8794\n",
            "Epoch 24 / 25\n"
          ]
        },
        {
          "output_type": "stream",
          "name": "stderr",
          "text": [
            "Training: 100%|███████████████████████████████████████████████████████████████████| 58/58 [00:07<00:00,  7.46it/s]\n"
          ]
        },
        {
          "output_type": "stream",
          "name": "stdout",
          "text": [
            "Training Loss: 0.0514 Acc: 0.9811\n"
          ]
        },
        {
          "output_type": "stream",
          "name": "stderr",
          "text": [
            "Validation: 100%|█████████████████████████████████████████████████████████████████| 12/12 [00:00<00:00, 15.87it/s]\n"
          ]
        },
        {
          "output_type": "stream",
          "name": "stdout",
          "text": [
            "Validation Loss: 0.3486 Acc: 0.8865\n",
            "Epoch 25 / 25\n"
          ]
        },
        {
          "output_type": "stream",
          "name": "stderr",
          "text": [
            "Training: 100%|███████████████████████████████████████████████████████████████████| 58/58 [00:07<00:00,  7.53it/s]\n"
          ]
        },
        {
          "output_type": "stream",
          "name": "stdout",
          "text": [
            "Training Loss: 0.0743 Acc: 0.9720\n"
          ]
        },
        {
          "output_type": "stream",
          "name": "stderr",
          "text": [
            "Validation: 100%|█████████████████████████████████████████████████████████████████| 12/12 [00:00<00:00, 16.79it/s]"
          ]
        },
        {
          "output_type": "stream",
          "name": "stdout",
          "text": [
            "Validation Loss: 0.3594 Acc: 0.8723\n"
          ]
        },
        {
          "output_type": "stream",
          "name": "stderr",
          "text": [
            "\n"
          ]
        }
      ]
    },
    {
      "cell_type": "code",
      "source": [
        "all_correct_cnt, wrong_cnt, all_cnt, correct_cnt, damaged_cnt = test_multi(model, test_multi_loader)\n",
        "print(f\"All correct: {all_correct_cnt} / {all_cnt} = {all_correct_cnt / all_cnt}\")\n",
        "print(f\"Wrong: {wrong_cnt} / {all_cnt} = {wrong_cnt / all_cnt}\")\n",
        "print(f\"Correct: {correct_cnt} / {damaged_cnt} = {correct_cnt / damaged_cnt}\")"
      ],
      "metadata": {
        "colab": {
          "base_uri": "https://localhost:8080/"
        },
        "id": "VsGaTnUF1H0U",
        "outputId": "d0a1941a-6642-48f0-d20e-ca04e6117080"
      },
      "execution_count": null,
      "outputs": [
        {
          "output_type": "stream",
          "name": "stderr",
          "text": [
            "Testing: 100%|████████████████████████████████████████████████████████████████████| 15/15 [00:00<00:00, 21.14it/s]"
          ]
        },
        {
          "output_type": "stream",
          "name": "stdout",
          "text": [
            "All correct: 303 / 460 = 0.658695652173913\n",
            "Wrong: 69.66666412353516 / 460 = 0.1514492630958557\n",
            "Correct: 167 / 229 = 0.7292576419213974\n"
          ]
        },
        {
          "output_type": "stream",
          "name": "stderr",
          "text": [
            "\n"
          ]
        }
      ]
    },
    {
      "cell_type": "code",
      "source": [
        "plot_roc(model, test_multi_loader, thresholds=np.arange(0, 0.9998, 0.0002))"
      ],
      "metadata": {
        "colab": {
          "base_uri": "https://localhost:8080/",
          "height": 467
        },
        "id": "yIWP2GbtA3M0",
        "outputId": "3c5edc5b-7ddc-4bbe-d9c7-a09a11f1f177"
      },
      "execution_count": null,
      "outputs": [
        {
          "output_type": "stream",
          "name": "stderr",
          "text": [
            "Testing: 100%|████████████████████████████████████████████████████████████████████| 15/15 [00:24<00:00,  1.67s/it]\n"
          ]
        },
        {
          "output_type": "display_data",
          "data": {
            "text/plain": [
              "<Figure size 640x480 with 1 Axes>"
            ],
            "image/png": "[encoded data removed]"
          },
          "metadata": {}
        }
      ]
    }
  ]
}